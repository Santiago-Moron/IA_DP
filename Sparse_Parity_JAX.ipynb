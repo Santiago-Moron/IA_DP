{
  "cells": [
    {
      "cell_type": "markdown",
      "metadata": {
        "id": "Jb5jc18NC-Nb"
      },
      "source": [
        "# Imports"
      ]
    },
    {
      "cell_type": "code",
      "execution_count": null,
      "metadata": {
        "colab": {
          "base_uri": "https://localhost:8080/"
        },
        "id": "Wbiu7LB0BeYE",
        "outputId": "14ff8b95-4273-482c-cdbe-c78dc85bc86b"
      },
      "outputs": [],
      "source": [
        "!pip install dm-haiku optax\n",
        "!pip install jax"
      ]
    },
    {
      "cell_type": "code",
      "execution_count": null,
      "metadata": {},
      "outputs": [],
      "source": [
        "pip install plotly"
      ]
    },
    {
      "cell_type": "code",
      "execution_count": 3,
      "metadata": {
        "id": "UDr5lQDwt0hj"
      },
      "outputs": [],
      "source": [
        "import jax\n",
        "from jax import config\n",
        "config.update(\"jax_enable_x64\", True)\n",
        "config.update('jax_default_matmul_precision', 'float32')\n",
        "\n",
        "import jax\n",
        "import jax.numpy as jnp\n",
        "from jax import grad, jit, vmap\n",
        "import optax\n",
        "import haiku as hk\n",
        "\n",
        "import numpy as np\n",
        "import jax.numpy as jnp\n",
        "from typing import Iterable, Iterator, NamedTuple, TypeVar, Any, MutableMapping, Tuple\n",
        "import time\n",
        "import math\n",
        "import datetime\n",
        "import json\n",
        "import os\n",
        "\n",
        "\n",
        "# np.set_printoptions(precision=3, suppress=True)\n",
        "\n",
        "import plotly.graph_objs as go\n",
        "import plotly.io as pio\n",
        "import plotly.express as px\n",
        "pio.renderers.default = 'colab'\n",
        "from plotly.subplots import make_subplots\n"
      ]
    },
    {
      "cell_type": "code",
      "execution_count": 4,
      "metadata": {
        "id": "0OwR4qGVgR1t"
      },
      "outputs": [],
      "source": [
        "import plotly.graph_objs as go\n",
        "from plotly.subplots import make_subplots\n",
        "\n",
        "def plot_training(all_metrics):\n",
        "  fig = make_subplots(rows=2, cols=2, subplot_titles=(\"Loss\", \"Accuracy\", \"L1 Norm\", \"L2 Norm\"), vertical_spacing=0.1)\n",
        "\n",
        "  color_dict = {'train': 'red', 'eval': 'blue'}\n",
        "  for i, metric in enumerate(['loss', 'acc']):\n",
        "    for t in ['train', 'eval']:\n",
        "      trace = go.Scatter(\n",
        "        x=[d['step'] for d in all_metrics],\n",
        "        y=[d[f'{t}_{metric}'] for d in all_metrics],\n",
        "        mode='lines+markers',\n",
        "        name=f'{t.capitalize()} {metric.capitalize()}',\n",
        "        line=dict(color=color_dict[t]),\n",
        "        yaxis='y1' if metric == 'loss' else 'y2'\n",
        "      )\n",
        "      fig.add_trace(trace, row=1, col=i+1)\n",
        "      if metric == 'loss':\n",
        "        fig.update_yaxes(type='log', title_text=f'{metric.capitalize()}', row=1, col=i+1)\n",
        "      else:\n",
        "        fig.update_yaxes(title_text=f'{metric.capitalize()}', row=1, col=i+1)\n",
        "\n",
        "  # Plotting L1 and L2 norms\n",
        "  for i, norm in enumerate(['l1_norm', 'l2_norm']):\n",
        "    trace = go.Scatter(\n",
        "      x=[d['step'] for d in all_metrics],\n",
        "      y=[d[norm] for d in all_metrics],\n",
        "      mode='lines+markers',\n",
        "      name=norm.replace('_', ' ').capitalize()\n",
        "    )\n",
        "    fig.add_trace(trace, row=2, col=i+1)\n",
        "    fig.update_yaxes(title_text=norm.replace('_', ' ').capitalize(), row=2, col=i+1)\n",
        "\n",
        "  fig.update_xaxes(row=1, col=1, range=[0, max([d['step'] for d in all_metrics])])\n",
        "  fig.update_xaxes(row=1, col=2, range=[0, max([d['step'] for d in all_metrics])])\n",
        "  fig.update_xaxes(row=2, col=1, range=[0, max([d['step'] for d in all_metrics])])\n",
        "  fig.update_xaxes(row=2, col=2, range=[0, max([d['step'] for d in all_metrics])])\n",
        "\n",
        "  fig.update_layout(height=800, hovermode='closest')\n",
        "  fig.show()\n"
      ]
    },
    {
      "cell_type": "code",
      "execution_count": 5,
      "metadata": {
        "id": "ZFUSuKf2p7MB"
      },
      "outputs": [],
      "source": [
        "def plot_weights(state):\n",
        "  key_subkey_array = []\n",
        "  for key, subdict in state.params.items():\n",
        "    for subkey, array in subdict.items():\n",
        "      key_subkey_array.append((key, subkey, array))\n",
        "\n",
        "  zmin = min([np.min(array) for key, subkey, array in key_subkey_array]).item()\n",
        "  zmax = max([np.max(array) for key, subkey, array in key_subkey_array]).item()\n",
        "  zval = max(abs(zmin), zmax)*1\n",
        "\n",
        "  N = len(key_subkey_array)\n",
        "  grid_size = math.ceil(math.sqrt(N)) # find the nearest square grid\n",
        "\n",
        "  fig = make_subplots(rows=grid_size, cols=grid_size, subplot_titles=[f\"{key} {subkey}\" for key, subkey, array in key_subkey_array], vertical_spacing=.1)\n",
        "\n",
        "  for idx, (key, subkey, array) in enumerate(key_subkey_array):\n",
        "      row = idx // grid_size + 1  # Calculate the appropriate row, col placement in grid\n",
        "      col = idx % grid_size + 1\n",
        "      trace = go.Heatmap(z=array, zmin=zval*-1, zmax=zval*1, zmid=0, colorscale='RdBu', name=f'{key} {subkey}')\n",
        "      # trace = go.Heatmap(z=array, zmin=zval*-0.1, zmax=zval*0.1, zmid=0, colorscale='RdBu', name=f'{key} {subkey}')\n",
        "      fig.add_trace(trace, row=row, col=col)\n",
        "\n",
        "  fig.update_layout(height=400*grid_size, width=400*grid_size)\n",
        "  fig.show()"
      ]
    },
    {
      "cell_type": "code",
      "execution_count": 6,
      "metadata": {
        "id": "8fFF0_inBYyJ"
      },
      "outputs": [],
      "source": [
        "def plot_weight_checkpoints(hidden_w):\n",
        "  import plotly.graph_objects as go\n",
        "\n",
        "  fig = go.Figure()\n",
        "  checkpoints, rows, cols = hidden_w.shape\n",
        "\n",
        "  for row in range(rows):\n",
        "    for col in range(cols):\n",
        "      y_values = hidden_w[:, row, col]\n",
        "      color = \"rgb(000,255,0)\" if row < 3 else \"rgba(0, 0, 0, 0.1)\"\n",
        "      fig.add_trace(go.Scatter(\n",
        "        y=y_values,\n",
        "        mode='lines',\n",
        "        showlegend=False,\n",
        "        line=dict(color=color),\n",
        "      ))\n",
        "\n",
        "  fig.update_layout(\n",
        "      title=\"hidden_w over training\",\n",
        "      xaxis_title=\"Checkpoint\",\n",
        "      yaxis_title=\"Value\",\n",
        "  )\n",
        "\n",
        "  fig.show()"
      ]
    },
    {
      "cell_type": "code",
      "execution_count": 7,
      "metadata": {
        "id": "v2QnhsklJ4mB"
      },
      "outputs": [],
      "source": [
        "class TrainingState(NamedTuple):\n",
        "  \"\"\"Container for the training state.\"\"\"\n",
        "  params: hk.Params\n",
        "  opt_state: optax.OptState\n",
        "  rng: jax.Array\n",
        "  step: jax.Array\n"
      ]
    },
    {
      "cell_type": "code",
      "execution_count": 8,
      "metadata": {
        "id": "VmHvyPfOJ6aH"
      },
      "outputs": [],
      "source": [
        "class NpEncoder(json.JSONEncoder):\n",
        "  \"\"\"Save NP as json.\"\"\"\n",
        "\n",
        "  def default(self, o):\n",
        "    if isinstance(o, np.integer):\n",
        "      return int(o)\n",
        "    if isinstance(o, np.floating):\n",
        "      return float(o)\n",
        "    if isinstance(o, np.ndarray):\n",
        "      return o.tolist()\n",
        "\n",
        "    if isinstance(o, jnp.integer):\n",
        "      return int(o)\n",
        "    if isinstance(o, jnp.floating):\n",
        "      return float(o)\n",
        "    if isinstance(o, jnp.ndarray):\n",
        "      return o.tolist()\n",
        "\n",
        "    return super(NpEncoder, self).default(o)\n"
      ]
    },
    {
      "cell_type": "markdown",
      "metadata": {
        "id": "r_6MuUEQiUXG"
      },
      "source": [
        "# Hyper parameters\n",
        "\n",
        "[Hidden Progress in Deep Learning](https://arxiv.org/pdf/2207.08799.pdf) // section 3.1, page 6"
      ]
    },
    {
      "cell_type": "code",
      "execution_count": 9,
      "metadata": {
        "id": "I076DliB3fmU"
      },
      "outputs": [],
      "source": [
        "hyper = {\n",
        "  'task': 'sparse_parity',\n",
        "  'n': 30,\n",
        "  'k': 3,\n",
        "  'train_size': 900,\n",
        "  'test_size': 1000,\n",
        "\n",
        "  'hidden_size': int(32),\n",
        "  'loss_fn': 'cross_entropy', # ['hinge', 'cross_entropy'],\n",
        "\n",
        "  'optimizer': 'adam', # ['sgd', 'adam', 'adamw]\n",
        "  'regularization': 'l1', # ['l1', 'l2', 'none],\n",
        "  'weight_decay' : 2e-05,\n",
        "\n",
        "  # 'optimizer': 'adamw', # ['sgd', 'adam', 'adamw]\n",
        "  # 'regularization': 'l2', # ['l1', 'l2', 'none],\n",
        "  # 'weight_decay' : .1,\n",
        "\n",
        "  'w_init_scale': 2,\n",
        "  'learning_rate': 0.003,\n",
        "  'warm_up_steps': 1,\n",
        "  'b1': .99,\n",
        "  'b2': .98,\n",
        "\n",
        "  # 'batch_size': 512,\n",
        "  'log_every': 16,\n",
        "  'save_every': 16,\n",
        "  'max_steps': 4000,\n",
        "  'seed': 5,\n",
        "  'sweep_slug': 'sparse_parity'\n",
        "}\n",
        "\n",
        "# hyper['log_every'] = int(hyper['max_steps']/250)\n",
        "# hyper['save_every'] = int(hyper['max_steps']/250)"
      ]
    },
    {
      "cell_type": "markdown",
      "metadata": {
        "id": "zmKrRPC2DAKe"
      },
      "source": [
        "# Model creation"
      ]
    },
    {
      "cell_type": "code",
      "execution_count": 10,
      "metadata": {
        "id": "ZXkGqJj07QWM"
      },
      "outputs": [],
      "source": [
        "unique_binary_strings = set()\n",
        "while len(unique_binary_strings) < hyper['train_size'] + hyper['test_size']:\n",
        "  binary_string = tuple(np.random.randint(2, size=hyper['n']))\n",
        "  unique_binary_strings.add(binary_string)\n",
        "\n",
        "inputs = np.array(list(unique_binary_strings), dtype=np.float32)\n",
        "outputs = np.sum(inputs[:, :hyper['k']], axis=-1) % 2\n",
        "\n",
        "# inputs = np.where(inputs==0, -1, inputs) # should we remap to 0?\n",
        "# add a column of ones\n",
        "ones_column = np.ones((inputs.shape[0], 1), dtype=np.float32)\n",
        "inputs = np.concatenate((inputs, ones_column), axis=1)\n",
        "\n",
        "indices = np.random.permutation(len(inputs))\n",
        "split_idx = int(hyper['train_size'])\n",
        "train_batch = inputs[indices[:split_idx]], outputs[indices[:split_idx]]\n",
        "eval_batch = inputs[indices[split_idx:]], outputs[indices[split_idx:]]"
      ]
    },
    {
      "cell_type": "code",
      "execution_count": 11,
      "metadata": {
        "id": "i1RCxhOOFEHv"
      },
      "outputs": [],
      "source": [
        "  def l1_regularizer(weight_decay):\n",
        "    def init_fn(state):\n",
        "      return state\n",
        "\n",
        "    def update_fn(updates, state, params=None):\n",
        "      updates = jax.tree_map(\n",
        "          lambda g, p: g + weight_decay * jnp.sign(p), updates, params\n",
        "      )\n",
        "      return updates, state\n",
        "\n",
        "    return optax.GradientTransformation(init_fn, update_fn)"
      ]
    },
    {
      "cell_type": "code",
      "execution_count": 12,
      "metadata": {
        "id": "-6xh9JkDFEaP"
      },
      "outputs": [],
      "source": [
        "def l2_regularizer(weight_decay):\n",
        "  def init_fn(state):\n",
        "    return state\n",
        "\n",
        "  def update_fn(updates, state, params=None):\n",
        "    updates = jax.tree_map(\n",
        "      lambda g, p: g + weight_decay * p, updates, params\n",
        "    )\n",
        "    return updates, state\n",
        "\n",
        "  return optax.GradientTransformation(init_fn, update_fn)"
      ]
    },
    {
      "cell_type": "code",
      "execution_count": 13,
      "metadata": {
        "id": "C2zkH8bdgm_v"
      },
      "outputs": [],
      "source": [
        "learning_rate = optax.linear_schedule(0, hyper['learning_rate'], hyper['warm_up_steps'])\n",
        "\n",
        "if hyper['optimizer'] == 'sgd':\n",
        "  optimiser_base = optax.sgd(learning_rate)\n",
        "elif hyper['optimizer'] == 'adam':\n",
        "  optimiser_base = optax.adam(\n",
        "      learning_rate, b1=hyper['b1'], b2=hyper['b2']\n",
        "  )\n",
        "elif hyper['optimizer'] == 'adamw':\n",
        "  optimiser_base = optax.adamw(\n",
        "      learning_rate=learning_rate,\n",
        "      weight_decay=hyper['weight_decay'],\n",
        "      b1=hyper['b1'],\n",
        "      b2=hyper['b2'],\n",
        "  )\n",
        "else:\n",
        "  raise ValueError(f\"Unknown optimizer {hyper['optimizer']}.\")\n",
        "\n",
        "if hyper['regularization'] == 'l1':\n",
        "  if hyper['optimizer'] == 'adamw':\n",
        "    raise ValueError('Only supporting l1 with adam or sgd optimizer.')\n",
        "  optimiser = optax.chain(\n",
        "      l1_regularizer(hyper['weight_decay']),\n",
        "      optimiser_base,\n",
        "  )\n",
        "elif hyper['regularization'] == 'l2':\n",
        "  if hyper['optimizer'] == 'sgd':\n",
        "    optimiser = optax.chain(\n",
        "      l2_regularizer(hyper['weight_decay']),\n",
        "      optimiser_base,\n",
        "    )\n",
        "  elif hyper['optimizer'] == 'adam':\n",
        "    raise ValueError('Only supporting l2 with adamw optimizer.')\n",
        "  elif hyper['optimizer'] == 'adamw':\n",
        "    optimiser = optimiser_base\n",
        "elif hyper['regularization'] == 'none':\n",
        "  optimiser = optimiser_base\n",
        "else:\n",
        "  raise ValueError(f\"Unknown regularization {hyper['regularization']}.\")\n",
        "\n"
      ]
    },
    {
      "cell_type": "code",
      "execution_count": null,
      "metadata": {
        "colab": {
          "base_uri": "https://localhost:8080/"
        },
        "id": "sWrGiPt4V5-C",
        "outputId": "2eab7716-2c27-40c0-e0da-9166964f6c08"
      },
      "outputs": [],
      "source": [
        "  for step in range(hyper['max_steps']):\n",
        "    print(step)"
      ]
    },
    {
      "cell_type": "code",
      "execution_count": 15,
      "metadata": {
        "id": "yoxa0q8pFXeg"
      },
      "outputs": [],
      "source": [
        "def forward(inputs):\n",
        "  w_init = hk.initializers.VarianceScaling(scale=hyper['w_init_scale'], mode='fan_in', distribution='truncated_normal')\n",
        "\n",
        "  net = hk.Sequential([\n",
        "    hk.Linear(hyper['hidden_size'], name='hidden', w_init=w_init, with_bias=False),\n",
        "    jax.nn.relu,\n",
        "    hk.Linear(1, name='out', with_bias=False),\n",
        "  ])\n",
        "  return net(inputs)[:, 0]\n",
        "\n",
        "@hk.transform\n",
        "def acc_fn(batch):\n",
        "  inputs, targets = batch\n",
        "  outputs = forward(inputs)\n",
        "\n",
        "  return jnp.mean(jnp.sign(outputs*2 - 1) == jnp.sign(targets*2 - 1))\n",
        "\n",
        "@hk.transform\n",
        "def loss_fn(batch):\n",
        "  inputs, targets = batch\n",
        "  outputs = forward(inputs)\n",
        "\n",
        "  if hyper['loss_fn'] == 'cross_entropy':\n",
        "    epsilon = 1e-7\n",
        "    outputs_sigmoid = jnp.clip(jax.nn.sigmoid(outputs), epsilon, 1. - epsilon)\n",
        "    loss = -targets*jnp.log(outputs_sigmoid) - (1 - targets)*jnp.log(1 - outputs_sigmoid)\n",
        "\n",
        "  if hyper['loss_fn'] == 'hinge':\n",
        "    targets = 2*targets - 1\n",
        "    loss = jnp.maximum(0, 1 - targets*outputs)\n",
        "\n",
        "  return jnp.mean(loss)\n",
        "\n",
        "@jax.jit\n",
        "def update(state, batch):\n",
        "  rng, new_rng = jax.random.split(state.rng)\n",
        "  loss_and_grad_fn = jax.value_and_grad(loss_fn.apply)\n",
        "  loss, gradients = loss_and_grad_fn(state.params, rng, batch)\n",
        "\n",
        "  updates, new_opt_state = optimiser.update(gradients, state.opt_state, state.params)\n",
        "  new_params = optax.apply_updates(state.params, updates)\n",
        "\n",
        "  new_state = TrainingState(\n",
        "    params=new_params,\n",
        "    opt_state=new_opt_state,\n",
        "    rng=new_rng,\n",
        "    step=state.step + 1,\n",
        "  )\n",
        "  metrics = {'step': state.step, 'train_loss': loss}\n",
        "  return new_state, metrics\n",
        "\n",
        "@jax.jit\n",
        "def init(rng, batch):\n",
        "  rng, init_rng = jax.random.split(rng)\n",
        "  initial_params = loss_fn.init(init_rng, batch)\n",
        "  return TrainingState(\n",
        "    params=initial_params,\n",
        "    opt_state=optimiser.init(initial_params),\n",
        "    rng=rng,\n",
        "    step=np.array(0),\n",
        "  )"
      ]
    },
    {
      "cell_type": "code",
      "execution_count": 16,
      "metadata": {
        "id": "70Putf_jboeG"
      },
      "outputs": [],
      "source": [
        "# initialise model parameters\n",
        "state = init(jax.random.PRNGKey(hyper['seed']), train_batch)\n",
        "\n",
        "all_metrics = []\n",
        "saved_checkpoints = []\n",
        "prev_time = time.time()"
      ]
    },
    {
      "cell_type": "markdown",
      "metadata": {
        "id": "rO6gsBcYKFLj"
      },
      "source": [
        "# Training"
      ]
    },
    {
      "cell_type": "code",
      "execution_count": null,
      "metadata": {
        "colab": {
          "base_uri": "https://localhost:8080/"
        },
        "id": "tIb6dmSMbp4p",
        "outputId": "4e06d89c-c55a-4f2d-e372-7df08315505c"
      },
      "outputs": [],
      "source": [
        "for step in range(hyper['max_steps']):\n",
        "  state, metrics = update(state, train_batch)\n",
        "  if step % hyper['save_every'] == 0:\n",
        "    saved_checkpoints.append({'step': step, 'state': state})\n",
        "  if step % hyper['log_every'] == 0:\n",
        "    steps_per_sec = hyper['log_every'] / (time.time() - prev_time+0.0001)\n",
        "    prev_time = time.time()\n",
        "\n",
        "    l1_norm = 0\n",
        "    l2_norm = 0\n",
        "    for param in jax.tree_util.tree_leaves(state.params):\n",
        "      l1_norm += jnp.sum(jnp.abs(param))\n",
        "      l2_norm += jnp.sum(jnp.square(param))\n",
        "    l2_norm = jnp.sqrt(l2_norm)\n",
        "\n",
        "    metrics |= {\n",
        "      'train_acc': acc_fn.apply(state.params, state.rng, train_batch),\n",
        "      'eval_acc': acc_fn.apply(state.params, state.rng, eval_batch),\n",
        "      'eval_loss': loss_fn.apply(state.params, state.rng, eval_batch),\n",
        "      'l1_norm': l1_norm,\n",
        "      'l2_norm': l2_norm,\n",
        "      'steps_per_sec': steps_per_sec,\n",
        "    }\n",
        "    all_metrics.append(metrics)\n",
        "\n",
        "    print({k: (v.item() if hasattr(v, 'item') else v) for k, v in metrics.items()})\n"
      ]
    },
    {
      "cell_type": "markdown",
      "metadata": {
        "id": "RJx3vOhHghkP"
      },
      "source": [
        "# Plot training"
      ]
    },
    {
      "cell_type": "code",
      "execution_count": 27,
      "metadata": {
        "colab": {
          "base_uri": "https://localhost:8080/",
          "height": 817
        },
        "id": "ouV0pv4e0LoE",
        "outputId": "b0509840-c131-49b4-f64b-18d2a3dc4a54"
      },
      "outputs": [
        {
          "data": {
            "text/html": [
              "<html>\n",
              "<head><meta charset=\"utf-8\" /></head>\n",
              "<body>\n",
              "    <div>            <script src=\"https://cdnjs.cloudflare.com/ajax/libs/mathjax/2.7.5/MathJax.js?config=TeX-AMS-MML_SVG\"></script><script type=\"text/javascript\">if (window.MathJax && window.MathJax.Hub && window.MathJax.Hub.Config) {window.MathJax.Hub.Config({SVG: {font: \"STIX-Web\"}});}</script>                <script type=\"text/javascript\">window.PlotlyConfig = {MathJaxConfig: 'local'};</script>\n",
              "        <script charset=\"utf-8\" src=\"https://cdn.plot.ly/plotly-2.35.2.min.js\"></script>                <div id=\"83143d52-39a4-46cb-a5e2-41e40de78f1a\" class=\"plotly-graph-div\" style=\"height:800px; width:100%;\"></div>            <script type=\"text/javascript\">                                    window.PLOTLYENV=window.PLOTLYENV || {};                                    if (document.getElementById(\"83143d52-39a4-46cb-a5e2-41e40de78f1a\")) {                    Plotly.newPlot(                        \"83143d52-39a4-46cb-a5e2-41e40de78f1a\",                        [{\"line\":{\"color\":\"red\"},\"mode\":\"lines+markers\",\"name\":\"Train Loss\",\"x\":[0,16,32,48,64,80,96,112,128,144,160,176,192,208,224,240,256,272,288,304,320,336,352,368,384,400,416,432,448,464,480,496,512,528,544,560,576,592,608,624,640,656,672,688,704,720,736,752,768,784,800,816,832,848,864,880,896,912,928,944,960,976,992,1008,1024,1040,1056,1072,1088,1104,1120,1136,1152,1168,1184,1200,1216,1232,1248,1264,1280,1296,1312,1328,1344,1360,1376,1392,1408,1424,1440,1456,1472,1488,1504,1520,1536,1552,1568,1584,1600,1616,1632,1648,1664,1680,1696,1712,1728,1744,1760,1776,1792,1808,1824,1840,1856,1872,1888,1904,1920,1936,1952,1968,1984,2000,2016,2032,2048,2064,2080,2096,2112,2128,2144,2160,2176,2192,2208,2224,2240,2256,2272,2288,2304,2320,2336,2352,2368,2384,2400,2416,2432,2448,2464,2480,2496,2512,2528,2544,2560,2576,2592,2608,2624,2640,2656,2672,2688,2704,2720,2736,2752,2768,2784,2800,2816,2832,2848,2864,2880,2896,2912,2928,2944,2960,2976,2992,3008,3024,3040,3056,3072,3088,3104,3120,3136,3152,3168,3184,3200,3216,3232,3248,3264,3280,3296,3312,3328,3344,3360,3376,3392,3408,3424,3440,3456,3472,3488,3504,3520,3536,3552,3568,3584,3600,3616,3632,3648,3664,3680,3696,3712,3728,3744,3760,3776,3792,3808,3824,3840,3856,3872,3888,3904,3920,3936,3952,3968,3984],\"y\":[0.7256674766540527,0.6905884742736816,0.6761491894721985,0.6632241606712341,0.6550827026367188,0.6444571614265442,0.6350670456886292,0.6254300475120544,0.6136754155158997,0.6030378937721252,0.5915010571479797,0.5781651139259338,0.5651081204414368,0.5509172677993774,0.5350713729858398,0.5194858312606812,0.5026163458824158,0.4850432872772217,0.46726134419441223,0.44845983386039734,0.42969807982444763,0.41100579500198364,0.3929229974746704,0.375235378742218,0.35671162605285645,0.33797964453697205,0.3187459409236908,0.2990833818912506,0.2795754373073578,0.2604764401912689,0.2419794648885727,0.22352148592472076,0.20584021508693695,0.1886393129825592,0.17206834256649017,0.15679697692394257,0.14195804297924042,0.12743297219276428,0.11417346447706223,0.10197464376688004,0.09031743556261063,0.0795857235789299,0.07003793120384216,0.061389174312353134,0.05329061299562454,0.04603313282132149,0.03926388546824455,0.033155933022499084,0.027672849595546722,0.02303955890238285,0.01902557909488678,0.015659188851714134,0.012674792669713497,0.01022010575979948,0.008142617531120777,0.0064273132011294365,0.005017612595111132,0.003873401554301381,0.002959444420412183,0.002256188541650772,0.0017187496414408088,0.001299054711125791,0.0009794306242838502,0.0007435099687427282,0.0005721248453482985,0.0004384873027447611,0.00033987668575719,0.00026594128576107323,0.00021517228742595762,0.00017998824478127062,0.000154730849317275,0.00013636790390592068,0.0001296372793149203,0.00012962233449798077,0.0001304636534769088,0.00013420723553281277,0.000138389048515819,0.00013731172657571733,0.00014225604536477476,0.0001428766263416037,0.0001395250583300367,0.00014011218445375562,0.0001434910809621215,0.00014348233526106924,0.0001377184089506045,0.00013282697182148695,0.00012855362729169428,0.0001307669299421832,0.00013826973736286163,0.00013779570872429758,0.00013032471179030836,0.0001184276698040776,0.00011196392006240785,0.00010506922262720764,9.752750338520855e-05,9.563107596477494e-05,9.41008111112751e-05,8.832103048916906e-05,8.338165935128927e-05,8.103778964141384e-05,8.083509601419792e-05,8.519268885720521e-05,8.929087925935164e-05,8.912281919037923e-05,8.589067874709144e-05,8.443339902441949e-05,8.623166650068015e-05,8.678344602230936e-05,8.569273632019758e-05,8.700334728928283e-05,8.825111581245437e-05,8.699893805896863e-05,8.654502016725019e-05,8.425216219620779e-05,8.221738244174048e-05,8.007619908312336e-05,7.849480607546866e-05,7.830587856005877e-05,8.14691447885707e-05,8.502692799083889e-05,8.83424945641309e-05,9.346340812044218e-05,0.0001013499713735655,0.00010916800965787843,0.00011639857984846458,0.00012112736294511706,0.0001259840646525845,0.0001293145032832399,0.00013031270646024495,0.00013196984946262091,0.00013087769912090153,0.0001309337530983612,0.0001304170145886019,0.00012784896534867585,0.00012499884178396314,0.00012110562238376588,0.00011742045171558857,0.00011303093924652785,0.0001076415937859565,0.0001046035613398999,0.0001006847305689007,9.753107588039711e-05,9.533026604913175e-05,9.37755175982602e-05,9.280041558668017e-05,9.17567522265017e-05,9.114237036556005e-05,9.082636097446084e-05,9.135792060988024e-05,9.203324589179829e-05,9.26416614674963e-05,9.31475151446648e-05,9.335037611890584e-05,9.349400352220982e-05,9.349828178528696e-05,9.316528303315863e-05,9.269789006793872e-05,9.226147813024e-05,9.1290392447263e-05,9.027909254655242e-05,8.876253559719771e-05,8.749942935537547e-05,8.647135837236419e-05,8.464136772090569e-05,8.219142910093069e-05,7.932771404739469e-05,7.678931433474645e-05,7.431110861944035e-05,7.227248715935275e-05,7.08432708051987e-05,6.939578452147543e-05,6.90756642143242e-05,6.99951415299438e-05,7.218998507596552e-05,7.517792982980609e-05,7.752227975288406e-05,8.032641926547512e-05,8.273988350993022e-05,8.423656254308298e-05,8.440270175924525e-05,8.394416363444179e-05,8.368329145014286e-05,8.376273763133213e-05,8.610590157331899e-05,8.682873158250004e-05,8.678003359818831e-05,8.630484080640599e-05,8.603272726759315e-05,8.559802517993376e-05,8.41969667817466e-05,8.270610123872757e-05,8.14793020254001e-05,8.007414726307616e-05,7.969961734488606e-05,7.86715536378324e-05,7.739293505437672e-05,7.685668970225379e-05,7.691131031606346e-05,7.726846524747089e-05,7.672161154914647e-05,7.544992695329711e-05,7.457928586518392e-05,7.48188394936733e-05,7.513613672927022e-05,7.529326103394851e-05,7.566181011497974e-05,7.501093205064535e-05,7.544558320660144e-05,7.569904119009152e-05,7.609538442920893e-05,7.593142072437331e-05,7.566506246803328e-05,7.577917131129652e-05,7.652876956854016e-05,7.721448491793126e-05,7.830186223145574e-05,7.891935092629865e-05,7.920744974398986e-05,7.965491386130452e-05,7.960639777593315e-05,7.963287498569116e-05,8.002222602954134e-05,8.08381664683111e-05,8.131461800076067e-05,8.039132080739364e-05,7.867665408411995e-05,7.740520231891423e-05,7.527558045694605e-05,7.205602014437318e-05,6.959682650631294e-05,6.58331555314362e-05,6.335516809485853e-05,6.128090171841905e-05,5.99845516262576e-05,5.9289781347615644e-05,5.92024480283726e-05,5.9623933339025825e-05,6.054219920770265e-05,6.206702528288588e-05,6.292426405707374e-05,6.367101741489023e-05,6.462882447522134e-05,6.524108175653964e-05,6.561906775459647e-05,6.63190585328266e-05,6.658532220171764e-05,6.656752520939335e-05,6.691938324365765e-05,6.719092925777659e-05,6.675626354990527e-05],\"yaxis\":\"y\",\"type\":\"scatter\",\"xaxis\":\"x\"},{\"line\":{\"color\":\"blue\"},\"mode\":\"lines+markers\",\"name\":\"Eval Loss\",\"x\":[0,16,32,48,64,80,96,112,128,144,160,176,192,208,224,240,256,272,288,304,320,336,352,368,384,400,416,432,448,464,480,496,512,528,544,560,576,592,608,624,640,656,672,688,704,720,736,752,768,784,800,816,832,848,864,880,896,912,928,944,960,976,992,1008,1024,1040,1056,1072,1088,1104,1120,1136,1152,1168,1184,1200,1216,1232,1248,1264,1280,1296,1312,1328,1344,1360,1376,1392,1408,1424,1440,1456,1472,1488,1504,1520,1536,1552,1568,1584,1600,1616,1632,1648,1664,1680,1696,1712,1728,1744,1760,1776,1792,1808,1824,1840,1856,1872,1888,1904,1920,1936,1952,1968,1984,2000,2016,2032,2048,2064,2080,2096,2112,2128,2144,2160,2176,2192,2208,2224,2240,2256,2272,2288,2304,2320,2336,2352,2368,2384,2400,2416,2432,2448,2464,2480,2496,2512,2528,2544,2560,2576,2592,2608,2624,2640,2656,2672,2688,2704,2720,2736,2752,2768,2784,2800,2816,2832,2848,2864,2880,2896,2912,2928,2944,2960,2976,2992,3008,3024,3040,3056,3072,3088,3104,3120,3136,3152,3168,3184,3200,3216,3232,3248,3264,3280,3296,3312,3328,3344,3360,3376,3392,3408,3424,3440,3456,3472,3488,3504,3520,3536,3552,3568,3584,3600,3616,3632,3648,3664,3680,3696,3712,3728,3744,3760,3776,3792,3808,3824,3840,3856,3872,3888,3904,3920,3936,3952,3968,3984],\"y\":[0.7065461277961731,0.7037687301635742,0.6980386972427368,0.7030388712882996,0.7127760052680969,0.7135716676712036,0.7204597592353821,0.7321376204490662,0.7334541082382202,0.7357058525085449,0.7404714226722717,0.7413967847824097,0.7471988797187805,0.752540647983551,0.7489579319953918,0.7492761611938477,0.7512488961219788,0.7550110220909119,0.7574589252471924,0.7566879987716675,0.7619572877883911,0.7729073762893677,0.7847046256065369,0.7935188412666321,0.7982497811317444,0.7992033958435059,0.8041936755180359,0.8137322068214417,0.8248670101165771,0.8341459631919861,0.84201979637146,0.848787784576416,0.8555216193199158,0.8596134781837463,0.8625540733337402,0.8735936880111694,0.8819594383239746,0.8873165845870972,0.8969523310661316,0.906073272228241,0.9168917536735535,0.923953652381897,0.9291442036628723,0.9423121213912964,0.9597768783569336,0.976382315158844,0.9845180511474609,0.9877015948295593,0.9992738962173462,1.015700101852417,1.0266464948654175,1.0300984382629395,1.0377376079559326,1.0575428009033203,1.077378273010254,1.0933164358139038,1.107650876045227,1.1181085109710693,1.1246954202651978,1.1350518465042114,1.142364501953125,1.1371482610702515,1.127163052558899,1.119924783706665,1.114646315574646,1.1116836071014404,1.10879385471344,1.105817198753357,1.0965512990951538,1.0791990756988525,1.048461675643921,1.0092321634292603,0.964874804019928,0.9168730974197388,0.8656722903251648,0.8062365055084229,0.7385155558586121,0.6708974838256836,0.6039498448371887,0.5414376854896545,0.4878405034542084,0.43771892786026,0.3825151324272156,0.32697609066963196,0.2760005593299866,0.23139892518520355,0.19429507851600647,0.15962481498718262,0.12751492857933044,0.10147421061992645,0.07665853947401047,0.053505610674619675,0.037189558148384094,0.025438282638788223,0.016433140262961388,0.010505950078368187,0.007042527198791504,0.005153458099812269,0.0032033042516559362,0.0017320608021691442,0.0008885678253136575,0.00047626832383684814,0.00033394445199519396,0.00026010521105490625,0.00021596593433059752,0.00018756696954369545,0.00017436716007068753,0.00014980367268435657,0.00013100184150971472,0.00011874356277985498,0.00011097497190348804,0.00010209814354311675,9.828127076616511e-05,9.539314487483352e-05,9.165229130303487e-05,8.758468175074086e-05,8.357261685887352e-05,8.176067058229819e-05,8.520215487806126e-05,8.983882435131818e-05,9.310316818300635e-05,9.748991578817368e-05,0.00010526541154831648,0.00011327870743116364,0.00012047403288306668,0.0001254265516763553,0.00013182936527300626,0.00013537421182263643,0.0001370562968077138,0.00013705447781831026,0.00013540229701902717,0.00013398560986388475,0.0001329608348896727,0.00013057980686426163,0.0001277769624721259,0.0001237504038726911,0.00011955908848904073,0.00011453317711129785,0.00010848163947230205,0.00010542108793742955,0.00010139494406757876,9.889520151773468e-05,9.703227988211438e-05,9.577316086506471e-05,9.453977691009641e-05,9.373573993798345e-05,9.315653733210638e-05,9.272562601836398e-05,9.291729656979442e-05,9.328238957095891e-05,9.377302922075614e-05,9.417227556696162e-05,9.449871140532196e-05,9.478874562773854e-05,9.428900375496596e-05,9.38960220082663e-05,9.319622768089175e-05,9.27891960600391e-05,9.17788056540303e-05,9.062861499842256e-05,8.902233093976974e-05,8.767680992605165e-05,8.646307105664164e-05,8.45347240101546e-05,8.227409125538543e-05,7.961852679727599e-05,7.706682663410902e-05,7.456001912942156e-05,7.24170240573585e-05,7.120697409845889e-05,6.977387238293886e-05,6.939793820492923e-05,7.037221075734124e-05,7.275505777215585e-05,7.625738362548873e-05,7.901873323135078e-05,8.200493175536394e-05,8.45225658849813e-05,8.628778596175835e-05,8.659900777274743e-05,8.607429481344298e-05,8.581278962083161e-05,8.584343595430255e-05,8.850987069308758e-05,8.890079334378242e-05,8.851235907059163e-05,8.792849257588387e-05,8.745092782191932e-05,8.700480975676328e-05,8.568935299990699e-05,8.438489749096334e-05,8.356888429261744e-05,8.23798545752652e-05,8.208629878936335e-05,8.06951939011924e-05,7.926409307401627e-05,7.854327122913674e-05,7.837553857825696e-05,7.853208808228374e-05,7.790161907905713e-05,7.651949999853969e-05,7.566246495116502e-05,7.60532493586652e-05,7.657058449694887e-05,7.679658301640302e-05,7.718327833572403e-05,7.641872070962563e-05,7.680823182454333e-05,7.709704368608072e-05,7.773595280013978e-05,7.800153980497271e-05,7.816935976734385e-05,7.855080184526742e-05,7.954387547215447e-05,8.016479114303365e-05,8.105824235826731e-05,8.136221003951505e-05,8.141746366163716e-05,8.183010504581034e-05,8.193177200155333e-05,8.208436338463798e-05,8.26618997962214e-05,8.347760740434751e-05,8.378042548429221e-05,8.256144064944237e-05,8.063313725870103e-05,7.917680341051891e-05,7.647870370419696e-05,7.278649718500674e-05,7.06671125954017e-05,6.649307033512741e-05,6.399939593393356e-05,6.194876914378256e-05,6.0677855799440295e-05,5.9857477026525885e-05,5.96487989241723e-05,6.0101163398940116e-05,6.12633884884417e-05,6.300799577729777e-05,6.377157114911824e-05,6.443478196160868e-05,6.54058312647976e-05,6.620544445468113e-05,6.687723362119868e-05,6.754047353751957e-05,6.776072405045852e-05,6.764086720068008e-05,6.756590300938115e-05,6.75995834171772e-05,6.735084025422111e-05],\"yaxis\":\"y\",\"type\":\"scatter\",\"xaxis\":\"x\"},{\"line\":{\"color\":\"red\"},\"mode\":\"lines+markers\",\"name\":\"Train Acc\",\"x\":[0,16,32,48,64,80,96,112,128,144,160,176,192,208,224,240,256,272,288,304,320,336,352,368,384,400,416,432,448,464,480,496,512,528,544,560,576,592,608,624,640,656,672,688,704,720,736,752,768,784,800,816,832,848,864,880,896,912,928,944,960,976,992,1008,1024,1040,1056,1072,1088,1104,1120,1136,1152,1168,1184,1200,1216,1232,1248,1264,1280,1296,1312,1328,1344,1360,1376,1392,1408,1424,1440,1456,1472,1488,1504,1520,1536,1552,1568,1584,1600,1616,1632,1648,1664,1680,1696,1712,1728,1744,1760,1776,1792,1808,1824,1840,1856,1872,1888,1904,1920,1936,1952,1968,1984,2000,2016,2032,2048,2064,2080,2096,2112,2128,2144,2160,2176,2192,2208,2224,2240,2256,2272,2288,2304,2320,2336,2352,2368,2384,2400,2416,2432,2448,2464,2480,2496,2512,2528,2544,2560,2576,2592,2608,2624,2640,2656,2672,2688,2704,2720,2736,2752,2768,2784,2800,2816,2832,2848,2864,2880,2896,2912,2928,2944,2960,2976,2992,3008,3024,3040,3056,3072,3088,3104,3120,3136,3152,3168,3184,3200,3216,3232,3248,3264,3280,3296,3312,3328,3344,3360,3376,3392,3408,3424,3440,3456,3472,3488,3504,3520,3536,3552,3568,3584,3600,3616,3632,3648,3664,3680,3696,3712,3728,3744,3760,3776,3792,3808,3824,3840,3856,3872,3888,3904,3920,3936,3952,3968,3984],\"y\":[0.44111111760139465,0.47777777910232544,0.448888897895813,0.5200000405311584,0.5744444727897644,0.5566666722297668,0.5944444537162781,0.6377778053283691,0.6277778148651123,0.6333333253860474,0.6533333659172058,0.6511111259460449,0.6600000262260437,0.691111147403717,0.6966666579246521,0.7244444489479065,0.7388889193534851,0.7444444894790649,0.7633333802223206,0.7777777910232544,0.79666668176651,0.8100000023841858,0.8255555629730225,0.8377777934074402,0.8555555939674377,0.8711111545562744,0.8788889050483704,0.8866667151451111,0.898888885974884,0.9122222661972046,0.9166666865348816,0.9188889265060425,0.9322222471237183,0.9388889074325562,0.944444477558136,0.9533333778381348,0.9677777886390686,0.9766666889190674,0.9866666793823242,0.991111159324646,0.992222249507904,0.9944444894790649,0.995555579662323,0.996666669845581,0.9988889098167419,0.9988889098167419,1.0,1.0,1.0,1.0,1.0,1.0,1.0,1.0,1.0,1.0,1.0,1.0,1.0,1.0,1.0,1.0,1.0,1.0,1.0,1.0,1.0,1.0,1.0,1.0,1.0,1.0,1.0,1.0,1.0,1.0,1.0,1.0,1.0,1.0,1.0,1.0,1.0,1.0,1.0,1.0,1.0,1.0,1.0,1.0,1.0,1.0,1.0,1.0,1.0,1.0,1.0,1.0,1.0,1.0,1.0,1.0,1.0,1.0,1.0,1.0,1.0,1.0,1.0,1.0,1.0,1.0,1.0,1.0,1.0,1.0,1.0,1.0,1.0,1.0,1.0,1.0,1.0,1.0,1.0,1.0,1.0,1.0,1.0,1.0,1.0,1.0,1.0,1.0,1.0,1.0,1.0,1.0,1.0,1.0,1.0,1.0,1.0,1.0,1.0,1.0,1.0,1.0,1.0,1.0,1.0,1.0,1.0,1.0,1.0,1.0,1.0,1.0,1.0,1.0,1.0,1.0,1.0,1.0,1.0,1.0,1.0,1.0,1.0,1.0,1.0,1.0,1.0,1.0,1.0,1.0,1.0,1.0,1.0,1.0,1.0,1.0,1.0,1.0,1.0,1.0,1.0,1.0,1.0,1.0,1.0,1.0,1.0,1.0,1.0,1.0,1.0,1.0,1.0,1.0,1.0,1.0,1.0,1.0,1.0,1.0,1.0,1.0,1.0,1.0,1.0,1.0,1.0,1.0,1.0,1.0,1.0,1.0,1.0,1.0,1.0,1.0,1.0,1.0,1.0,1.0,1.0,1.0,1.0,1.0,1.0,1.0,1.0,1.0,1.0,1.0,1.0,1.0,1.0,1.0,1.0,1.0,1.0,1.0,1.0,1.0,1.0,1.0,1.0,1.0],\"yaxis\":\"y2\",\"type\":\"scatter\",\"xaxis\":\"x2\"},{\"line\":{\"color\":\"blue\"},\"mode\":\"lines+markers\",\"name\":\"Eval Acc\",\"x\":[0,16,32,48,64,80,96,112,128,144,160,176,192,208,224,240,256,272,288,304,320,336,352,368,384,400,416,432,448,464,480,496,512,528,544,560,576,592,608,624,640,656,672,688,704,720,736,752,768,784,800,816,832,848,864,880,896,912,928,944,960,976,992,1008,1024,1040,1056,1072,1088,1104,1120,1136,1152,1168,1184,1200,1216,1232,1248,1264,1280,1296,1312,1328,1344,1360,1376,1392,1408,1424,1440,1456,1472,1488,1504,1520,1536,1552,1568,1584,1600,1616,1632,1648,1664,1680,1696,1712,1728,1744,1760,1776,1792,1808,1824,1840,1856,1872,1888,1904,1920,1936,1952,1968,1984,2000,2016,2032,2048,2064,2080,2096,2112,2128,2144,2160,2176,2192,2208,2224,2240,2256,2272,2288,2304,2320,2336,2352,2368,2384,2400,2416,2432,2448,2464,2480,2496,2512,2528,2544,2560,2576,2592,2608,2624,2640,2656,2672,2688,2704,2720,2736,2752,2768,2784,2800,2816,2832,2848,2864,2880,2896,2912,2928,2944,2960,2976,2992,3008,3024,3040,3056,3072,3088,3104,3120,3136,3152,3168,3184,3200,3216,3232,3248,3264,3280,3296,3312,3328,3344,3360,3376,3392,3408,3424,3440,3456,3472,3488,3504,3520,3536,3552,3568,3584,3600,3616,3632,3648,3664,3680,3696,3712,3728,3744,3760,3776,3792,3808,3824,3840,3856,3872,3888,3904,3920,3936,3952,3968,3984],\"y\":[0.484000027179718,0.49400001764297485,0.47200003266334534,0.4700000286102295,0.4740000367164612,0.4660000205039978,0.47600001096725464,0.4910000264644623,0.4880000352859497,0.48100003600120544,0.48500001430511475,0.49400001764297485,0.503000020980835,0.5120000243186951,0.5130000114440918,0.5200000405311584,0.5360000133514404,0.5360000133514404,0.5490000247955322,0.5570000410079956,0.5630000233650208,0.5640000104904175,0.5610000491142273,0.5710000395774841,0.5750000476837158,0.5820000171661377,0.5879999995231628,0.5960000157356262,0.5960000157356262,0.5990000367164612,0.609000027179718,0.6160000562667847,0.6210000514984131,0.6260000467300415,0.6370000243186951,0.6430000066757202,0.6500000357627869,0.6540000438690186,0.6500000357627869,0.6550000309944153,0.6680000424385071,0.6690000295639038,0.6680000424385071,0.6740000247955322,0.675000011920929,0.675000011920929,0.6840000152587891,0.6910000443458557,0.7070000171661377,0.7090000510215759,0.7110000252723694,0.7110000252723694,0.7120000123977661,0.7150000333786011,0.7200000286102295,0.7280000448226929,0.737000048160553,0.7360000610351562,0.7390000224113464,0.7450000643730164,0.7480000257492065,0.7540000081062317,0.7610000371932983,0.7680000066757202,0.7760000228881836,0.7820000648498535,0.7870000600814819,0.7940000295639038,0.8040000200271606,0.8130000233650208,0.8190000653266907,0.8260000348091125,0.8270000219345093,0.8350000381469727,0.8410000205039978,0.8510000109672546,0.8570000529289246,0.8670000433921814,0.8740000128746033,0.8890000581741333,0.8990000486373901,0.9070000648498535,0.9170000553131104,0.9300000667572021,0.9380000233650208,0.9440000653266907,0.9480000734329224,0.9540000557899475,0.9630000591278076,0.9690000414848328,0.9750000238418579,0.9820000529289246,0.9850000739097595,0.9900000691413879,0.9960000514984131,0.9970000386238098,0.9970000386238098,0.9980000257492065,0.999000072479248,0.999000072479248,1.0,1.0,1.0,1.0,1.0,1.0,1.0,1.0,1.0,1.0,1.0,1.0,1.0,1.0,1.0,1.0,1.0,1.0,1.0,1.0,1.0,1.0,1.0,1.0,1.0,1.0,1.0,1.0,1.0,1.0,1.0,1.0,1.0,1.0,1.0,1.0,1.0,1.0,1.0,1.0,1.0,1.0,1.0,1.0,1.0,1.0,1.0,1.0,1.0,1.0,1.0,1.0,1.0,1.0,1.0,1.0,1.0,1.0,1.0,1.0,1.0,1.0,1.0,1.0,1.0,1.0,1.0,1.0,1.0,1.0,1.0,1.0,1.0,1.0,1.0,1.0,1.0,1.0,1.0,1.0,1.0,1.0,1.0,1.0,1.0,1.0,1.0,1.0,1.0,1.0,1.0,1.0,1.0,1.0,1.0,1.0,1.0,1.0,1.0,1.0,1.0,1.0,1.0,1.0,1.0,1.0,1.0,1.0,1.0,1.0,1.0,1.0,1.0,1.0,1.0,1.0,1.0,1.0,1.0,1.0,1.0,1.0,1.0,1.0,1.0,1.0,1.0,1.0,1.0,1.0,1.0,1.0,1.0,1.0,1.0,1.0,1.0,1.0,1.0,1.0,1.0,1.0,1.0,1.0,1.0,1.0,1.0,1.0,1.0,1.0],\"yaxis\":\"y2\",\"type\":\"scatter\",\"xaxis\":\"x2\"},{\"mode\":\"lines+markers\",\"name\":\"L1 norm\",\"x\":[0,16,32,48,64,80,96,112,128,144,160,176,192,208,224,240,256,272,288,304,320,336,352,368,384,400,416,432,448,464,480,496,512,528,544,560,576,592,608,624,640,656,672,688,704,720,736,752,768,784,800,816,832,848,864,880,896,912,928,944,960,976,992,1008,1024,1040,1056,1072,1088,1104,1120,1136,1152,1168,1184,1200,1216,1232,1248,1264,1280,1296,1312,1328,1344,1360,1376,1392,1408,1424,1440,1456,1472,1488,1504,1520,1536,1552,1568,1584,1600,1616,1632,1648,1664,1680,1696,1712,1728,1744,1760,1776,1792,1808,1824,1840,1856,1872,1888,1904,1920,1936,1952,1968,1984,2000,2016,2032,2048,2064,2080,2096,2112,2128,2144,2160,2176,2192,2208,2224,2240,2256,2272,2288,2304,2320,2336,2352,2368,2384,2400,2416,2432,2448,2464,2480,2496,2512,2528,2544,2560,2576,2592,2608,2624,2640,2656,2672,2688,2704,2720,2736,2752,2768,2784,2800,2816,2832,2848,2864,2880,2896,2912,2928,2944,2960,2976,2992,3008,3024,3040,3056,3072,3088,3104,3120,3136,3152,3168,3184,3200,3216,3232,3248,3264,3280,3296,3312,3328,3344,3360,3376,3392,3408,3424,3440,3456,3472,3488,3504,3520,3536,3552,3568,3584,3600,3616,3632,3648,3664,3680,3696,3712,3728,3744,3760,3776,3792,3808,3824,3840,3856,3872,3888,3904,3920,3936,3952,3968,3984],\"y\":[209.67837524414062,206.86204528808594,205.8923797607422,207.33531188964844,209.86729431152344,213.66055297851562,218.3673553466797,223.2507781982422,227.9029541015625,232.71836853027344,238.48513793945312,244.80438232421875,251.34193420410156,258.1384582519531,265.20037841796875,272.59381103515625,280.2034606933594,288.0517883300781,295.5516052246094,302.73199462890625,309.9576721191406,317.16021728515625,324.1959228515625,331.3940124511719,338.52069091796875,345.1250305175781,351.41656494140625,357.4584045410156,363.57830810546875,369.285888671875,375.0128479003906,380.8392028808594,386.9617004394531,393.4949951171875,400.5511474609375,407.68798828125,414.909423828125,422.17620849609375,429.61688232421875,437.0048522949219,445.03155517578125,453.3741760253906,461.89776611328125,470.4984130859375,478.97601318359375,487.44195556640625,496.29937744140625,505.76641845703125,515.3662109375,524.9256591796875,534.569091796875,544.1414794921875,553.505126953125,562.9840087890625,572.325439453125,581.44580078125,590.724853515625,599.8370971679688,608.70361328125,617.2889404296875,625.1846313476562,632.478271484375,639.094970703125,644.5875244140625,648.81982421875,651.670654296875,653.0018310546875,652.7587890625,650.8508911132812,647.3160400390625,642.0682983398438,634.680908203125,625.4790649414062,614.64501953125,602.5557861328125,589.3705444335938,575.5233154296875,561.413330078125,547.0728149414062,532.6915893554688,518.28759765625,503.6142578125,489.34161376953125,475.2464599609375,461.40240478515625,447.42950439453125,433.4117126464844,419.4010009765625,405.8892822265625,392.67596435546875,379.8828125,367.2436218261719,354.5693054199219,342.50921630859375,330.8228759765625,319.3756103515625,308.2895812988281,297.84832763671875,287.2445068359375,277.0191650390625,267.178955078125,257.807373046875,249.33897399902344,241.27149963378906,233.8361053466797,226.7008514404297,219.98753356933594,213.95263671875,208.56573486328125,203.52078247070312,198.4742431640625,194.05392456054688,189.28759765625,185.00985717773438,181.22384643554688,177.10313415527344,173.4254608154297,170.60427856445312,167.4478302001953,164.0323486328125,160.9208984375,157.7024688720703,154.74220275878906,152.10427856445312,149.48728942871094,146.955810546875,144.8189697265625,142.74679565429688,140.7833251953125,139.14117431640625,137.44761657714844,136.04071044921875,134.44479370117188,132.74105834960938,131.3157196044922,130.0595703125,129.00894165039062,127.76921081542969,126.68067932128906,125.55221557617188,124.43104553222656,123.30335998535156,122.13642120361328,121.23851013183594,120.29126739501953,119.28660583496094,118.1885986328125,117.05067443847656,115.81481170654297,114.63068389892578,113.46483612060547,112.3585205078125,111.20909881591797,110.14346313476562,109.05001068115234,107.89163208007812,106.70479583740234,105.54273986816406,104.425048828125,103.19898986816406,102.04510498046875,101.0963134765625,100.11363983154297,99.22859191894531,98.24834442138672,97.30802917480469,96.56617736816406,95.83061218261719,95.07305908203125,94.2783203125,93.47984313964844,92.69488525390625,91.89833068847656,91.10791778564453,90.32223510742188,89.67805480957031,89.08271026611328,88.4990234375,87.85620880126953,87.22616577148438,86.57786560058594,85.98451232910156,85.64420318603516,85.32059478759766,84.98896789550781,84.67998504638672,84.39640808105469,84.11492919921875,83.85964965820312,83.57913208007812,83.31378936767578,83.06826782226562,82.84917449951172,82.5917739868164,82.35943603515625,82.0849838256836,81.78233337402344,81.56448364257812,81.31239318847656,81.04447174072266,80.74065399169922,80.45602416992188,80.21955871582031,79.93522644042969,79.65065002441406,79.37960815429688,79.12753295898438,78.87608337402344,78.55294799804688,78.28670501708984,77.97281646728516,77.69046020507812,77.3682861328125,77.01026916503906,76.63703918457031,76.27714538574219,75.90647888183594,75.55087280273438,75.21058654785156,74.88719940185547,74.5662612915039,74.20404815673828,73.83503723144531,73.48764038085938,73.22840118408203,72.98429870605469,72.7047119140625,72.5084228515625,72.36043548583984,72.22199249267578,72.16561889648438,72.16571807861328,72.08788299560547,71.92240905761719,71.70369720458984,71.42233276367188,71.11613464355469,70.77320861816406,70.41899871826172,70.15760803222656,69.8792495727539,69.57020568847656,69.2734375,68.970703125,68.71946716308594,68.48243713378906,68.22845458984375,67.9486083984375,67.71243286132812,67.48680114746094],\"type\":\"scatter\",\"xaxis\":\"x3\",\"yaxis\":\"y3\"},{\"mode\":\"lines+markers\",\"name\":\"L2 norm\",\"x\":[0,16,32,48,64,80,96,112,128,144,160,176,192,208,224,240,256,272,288,304,320,336,352,368,384,400,416,432,448,464,480,496,512,528,544,560,576,592,608,624,640,656,672,688,704,720,736,752,768,784,800,816,832,848,864,880,896,912,928,944,960,976,992,1008,1024,1040,1056,1072,1088,1104,1120,1136,1152,1168,1184,1200,1216,1232,1248,1264,1280,1296,1312,1328,1344,1360,1376,1392,1408,1424,1440,1456,1472,1488,1504,1520,1536,1552,1568,1584,1600,1616,1632,1648,1664,1680,1696,1712,1728,1744,1760,1776,1792,1808,1824,1840,1856,1872,1888,1904,1920,1936,1952,1968,1984,2000,2016,2032,2048,2064,2080,2096,2112,2128,2144,2160,2176,2192,2208,2224,2240,2256,2272,2288,2304,2320,2336,2352,2368,2384,2400,2416,2432,2448,2464,2480,2496,2512,2528,2544,2560,2576,2592,2608,2624,2640,2656,2672,2688,2704,2720,2736,2752,2768,2784,2800,2816,2832,2848,2864,2880,2896,2912,2928,2944,2960,2976,2992,3008,3024,3040,3056,3072,3088,3104,3120,3136,3152,3168,3184,3200,3216,3232,3248,3264,3280,3296,3312,3328,3344,3360,3376,3392,3408,3424,3440,3456,3472,3488,3504,3520,3536,3552,3568,3584,3600,3616,3632,3648,3664,3680,3696,3712,3728,3744,3760,3776,3792,3808,3824,3840,3856,3872,3888,3904,3920,3936,3952,3968,3984],\"y\":[8.033172607421875,7.938092231750488,7.925680160522461,8.003971099853516,8.130342483520508,8.285623550415039,8.479365348815918,8.69974422454834,8.921080589294434,9.159616470336914,9.41776180267334,9.6875638961792,9.972829818725586,10.266732215881348,10.56533432006836,10.871746063232422,11.183894157409668,11.503384590148926,11.823898315429688,12.148992538452148,12.481978416442871,12.818388938903809,13.157431602478027,13.499369621276855,13.842947959899902,14.180814743041992,14.516788482666016,14.857810974121094,15.202463150024414,15.549031257629395,15.901089668273926,16.26534080505371,16.63945770263672,17.02211570739746,17.414138793945312,17.81052017211914,18.21040153503418,18.60984992980957,19.011219024658203,19.415672302246094,19.823705673217773,20.23518943786621,20.651187896728516,21.07191276550293,21.4935359954834,21.919984817504883,22.352487564086914,22.792516708374023,23.236736297607422,23.688899993896484,24.1499080657959,24.61727523803711,25.09168815612793,25.573896408081055,26.062023162841797,26.554866790771484,27.05319595336914,27.55609893798828,28.05979347229004,28.562931060791016,29.062326431274414,29.55370330810547,30.032245635986328,30.493654251098633,30.933366775512695,31.345890045166016,31.726247787475586,32.06937026977539,32.37067794799805,32.625457763671875,32.82988739013672,32.98195266723633,33.08163070678711,33.129676818847656,33.12902069091797,33.08320236206055,32.99738311767578,32.87569046020508,32.72166061401367,32.54209518432617,32.33864212036133,32.11106491088867,31.866714477539062,31.610280990600586,31.344120025634766,31.06918716430664,30.786046981811523,30.493574142456055,30.197111129760742,29.90195083618164,29.610267639160156,29.321332931518555,29.02959632873535,28.737594604492188,28.44759178161621,28.15998077392578,27.875045776367188,27.593673706054688,27.31257438659668,27.03044319152832,26.74729347229004,26.469091415405273,26.199533462524414,25.940670013427734,25.688827514648438,25.444116592407227,25.206985473632812,24.97609519958496,24.74920082092285,24.528472900390625,24.3150634765625,24.110084533691406,23.911550521850586,23.718732833862305,23.52848243713379,23.337820053100586,23.149999618530273,22.965206146240234,22.781129837036133,22.595487594604492,22.407367706298828,22.218645095825195,22.031152725219727,21.853309631347656,21.68906021118164,21.539302825927734,21.4016056060791,21.27723503112793,21.167051315307617,21.069793701171875,20.983219146728516,20.90496063232422,20.835159301757812,20.776277542114258,20.726974487304688,20.686527252197266,20.653112411499023,20.623090744018555,20.593454360961914,20.562637329101562,20.529890060424805,20.49222755432129,20.451627731323242,20.40885353088379,20.363597869873047,20.311824798583984,20.255950927734375,20.199810028076172,20.14636993408203,20.091083526611328,20.03458023071289,19.977718353271484,19.920621871948242,19.859004974365234,19.793445587158203,19.7289981842041,19.66571044921875,19.604785919189453,19.548370361328125,19.49567222595215,19.443815231323242,19.394502639770508,19.347749710083008,19.30713653564453,19.268829345703125,19.23050880432129,19.194881439208984,19.164505004882812,19.134748458862305,19.10457420349121,19.074054718017578,19.040653228759766,19.002519607543945,18.95824432373047,18.913148880004883,18.870241165161133,18.829936981201172,18.793506622314453,18.76146125793457,18.735742568969727,18.7156982421875,18.699356079101562,18.684728622436523,18.67049217224121,18.65781593322754,18.64603042602539,18.632104873657227,18.61726951599121,18.605791091918945,18.596494674682617,18.587158203125,18.578022003173828,18.57077407836914,18.567794799804688,18.57211685180664,18.582067489624023,18.59326171875,18.602924346923828,18.60763168334961,18.609962463378906,18.613744735717773,18.619722366333008,18.625343322753906,18.632640838623047,18.640975952148438,18.652490615844727,18.66670799255371,18.682098388671875,18.697099685668945,18.71035385131836,18.72170639038086,18.732421875,18.744075775146484,18.753421783447266,18.76211166381836,18.776334762573242,18.795909881591797,18.818279266357422,18.84386444091797,18.870990753173828,18.892221450805664,18.908123016357422,18.924285888671875,18.943735122680664,18.968339920043945,18.99765396118164,19.03112030029297,19.068681716918945,19.1095027923584,19.15279197692871,19.194721221923828,19.23157501220703,19.25924301147461,19.277481079101562,19.2862491607666,19.281173706054688,19.26677894592285,19.247882843017578,19.228036880493164,19.213985443115234,19.20380973815918,19.194049835205078,19.182941436767578,19.169713973999023,19.154476165771484,19.140830993652344,19.13129997253418,19.127498626708984,19.12999153137207,19.137699127197266],\"type\":\"scatter\",\"xaxis\":\"x4\",\"yaxis\":\"y4\"}],                        {\"template\":{\"data\":{\"histogram2dcontour\":[{\"type\":\"histogram2dcontour\",\"colorbar\":{\"outlinewidth\":0,\"ticks\":\"\"},\"colorscale\":[[0.0,\"#0d0887\"],[0.1111111111111111,\"#46039f\"],[0.2222222222222222,\"#7201a8\"],[0.3333333333333333,\"#9c179e\"],[0.4444444444444444,\"#bd3786\"],[0.5555555555555556,\"#d8576b\"],[0.6666666666666666,\"#ed7953\"],[0.7777777777777778,\"#fb9f3a\"],[0.8888888888888888,\"#fdca26\"],[1.0,\"#f0f921\"]]}],\"choropleth\":[{\"type\":\"choropleth\",\"colorbar\":{\"outlinewidth\":0,\"ticks\":\"\"}}],\"histogram2d\":[{\"type\":\"histogram2d\",\"colorbar\":{\"outlinewidth\":0,\"ticks\":\"\"},\"colorscale\":[[0.0,\"#0d0887\"],[0.1111111111111111,\"#46039f\"],[0.2222222222222222,\"#7201a8\"],[0.3333333333333333,\"#9c179e\"],[0.4444444444444444,\"#bd3786\"],[0.5555555555555556,\"#d8576b\"],[0.6666666666666666,\"#ed7953\"],[0.7777777777777778,\"#fb9f3a\"],[0.8888888888888888,\"#fdca26\"],[1.0,\"#f0f921\"]]}],\"heatmap\":[{\"type\":\"heatmap\",\"colorbar\":{\"outlinewidth\":0,\"ticks\":\"\"},\"colorscale\":[[0.0,\"#0d0887\"],[0.1111111111111111,\"#46039f\"],[0.2222222222222222,\"#7201a8\"],[0.3333333333333333,\"#9c179e\"],[0.4444444444444444,\"#bd3786\"],[0.5555555555555556,\"#d8576b\"],[0.6666666666666666,\"#ed7953\"],[0.7777777777777778,\"#fb9f3a\"],[0.8888888888888888,\"#fdca26\"],[1.0,\"#f0f921\"]]}],\"heatmapgl\":[{\"type\":\"heatmapgl\",\"colorbar\":{\"outlinewidth\":0,\"ticks\":\"\"},\"colorscale\":[[0.0,\"#0d0887\"],[0.1111111111111111,\"#46039f\"],[0.2222222222222222,\"#7201a8\"],[0.3333333333333333,\"#9c179e\"],[0.4444444444444444,\"#bd3786\"],[0.5555555555555556,\"#d8576b\"],[0.6666666666666666,\"#ed7953\"],[0.7777777777777778,\"#fb9f3a\"],[0.8888888888888888,\"#fdca26\"],[1.0,\"#f0f921\"]]}],\"contourcarpet\":[{\"type\":\"contourcarpet\",\"colorbar\":{\"outlinewidth\":0,\"ticks\":\"\"}}],\"contour\":[{\"type\":\"contour\",\"colorbar\":{\"outlinewidth\":0,\"ticks\":\"\"},\"colorscale\":[[0.0,\"#0d0887\"],[0.1111111111111111,\"#46039f\"],[0.2222222222222222,\"#7201a8\"],[0.3333333333333333,\"#9c179e\"],[0.4444444444444444,\"#bd3786\"],[0.5555555555555556,\"#d8576b\"],[0.6666666666666666,\"#ed7953\"],[0.7777777777777778,\"#fb9f3a\"],[0.8888888888888888,\"#fdca26\"],[1.0,\"#f0f921\"]]}],\"surface\":[{\"type\":\"surface\",\"colorbar\":{\"outlinewidth\":0,\"ticks\":\"\"},\"colorscale\":[[0.0,\"#0d0887\"],[0.1111111111111111,\"#46039f\"],[0.2222222222222222,\"#7201a8\"],[0.3333333333333333,\"#9c179e\"],[0.4444444444444444,\"#bd3786\"],[0.5555555555555556,\"#d8576b\"],[0.6666666666666666,\"#ed7953\"],[0.7777777777777778,\"#fb9f3a\"],[0.8888888888888888,\"#fdca26\"],[1.0,\"#f0f921\"]]}],\"mesh3d\":[{\"type\":\"mesh3d\",\"colorbar\":{\"outlinewidth\":0,\"ticks\":\"\"}}],\"scatter\":[{\"fillpattern\":{\"fillmode\":\"overlay\",\"size\":10,\"solidity\":0.2},\"type\":\"scatter\"}],\"parcoords\":[{\"type\":\"parcoords\",\"line\":{\"colorbar\":{\"outlinewidth\":0,\"ticks\":\"\"}}}],\"scatterpolargl\":[{\"type\":\"scatterpolargl\",\"marker\":{\"colorbar\":{\"outlinewidth\":0,\"ticks\":\"\"}}}],\"bar\":[{\"error_x\":{\"color\":\"#2a3f5f\"},\"error_y\":{\"color\":\"#2a3f5f\"},\"marker\":{\"line\":{\"color\":\"#E5ECF6\",\"width\":0.5},\"pattern\":{\"fillmode\":\"overlay\",\"size\":10,\"solidity\":0.2}},\"type\":\"bar\"}],\"scattergeo\":[{\"type\":\"scattergeo\",\"marker\":{\"colorbar\":{\"outlinewidth\":0,\"ticks\":\"\"}}}],\"scatterpolar\":[{\"type\":\"scatterpolar\",\"marker\":{\"colorbar\":{\"outlinewidth\":0,\"ticks\":\"\"}}}],\"histogram\":[{\"marker\":{\"pattern\":{\"fillmode\":\"overlay\",\"size\":10,\"solidity\":0.2}},\"type\":\"histogram\"}],\"scattergl\":[{\"type\":\"scattergl\",\"marker\":{\"colorbar\":{\"outlinewidth\":0,\"ticks\":\"\"}}}],\"scatter3d\":[{\"type\":\"scatter3d\",\"line\":{\"colorbar\":{\"outlinewidth\":0,\"ticks\":\"\"}},\"marker\":{\"colorbar\":{\"outlinewidth\":0,\"ticks\":\"\"}}}],\"scattermapbox\":[{\"type\":\"scattermapbox\",\"marker\":{\"colorbar\":{\"outlinewidth\":0,\"ticks\":\"\"}}}],\"scatterternary\":[{\"type\":\"scatterternary\",\"marker\":{\"colorbar\":{\"outlinewidth\":0,\"ticks\":\"\"}}}],\"scattercarpet\":[{\"type\":\"scattercarpet\",\"marker\":{\"colorbar\":{\"outlinewidth\":0,\"ticks\":\"\"}}}],\"carpet\":[{\"aaxis\":{\"endlinecolor\":\"#2a3f5f\",\"gridcolor\":\"white\",\"linecolor\":\"white\",\"minorgridcolor\":\"white\",\"startlinecolor\":\"#2a3f5f\"},\"baxis\":{\"endlinecolor\":\"#2a3f5f\",\"gridcolor\":\"white\",\"linecolor\":\"white\",\"minorgridcolor\":\"white\",\"startlinecolor\":\"#2a3f5f\"},\"type\":\"carpet\"}],\"table\":[{\"cells\":{\"fill\":{\"color\":\"#EBF0F8\"},\"line\":{\"color\":\"white\"}},\"header\":{\"fill\":{\"color\":\"#C8D4E3\"},\"line\":{\"color\":\"white\"}},\"type\":\"table\"}],\"barpolar\":[{\"marker\":{\"line\":{\"color\":\"#E5ECF6\",\"width\":0.5},\"pattern\":{\"fillmode\":\"overlay\",\"size\":10,\"solidity\":0.2}},\"type\":\"barpolar\"}],\"pie\":[{\"automargin\":true,\"type\":\"pie\"}]},\"layout\":{\"autotypenumbers\":\"strict\",\"colorway\":[\"#636efa\",\"#EF553B\",\"#00cc96\",\"#ab63fa\",\"#FFA15A\",\"#19d3f3\",\"#FF6692\",\"#B6E880\",\"#FF97FF\",\"#FECB52\"],\"font\":{\"color\":\"#2a3f5f\"},\"hovermode\":\"closest\",\"hoverlabel\":{\"align\":\"left\"},\"paper_bgcolor\":\"white\",\"plot_bgcolor\":\"#E5ECF6\",\"polar\":{\"bgcolor\":\"#E5ECF6\",\"angularaxis\":{\"gridcolor\":\"white\",\"linecolor\":\"white\",\"ticks\":\"\"},\"radialaxis\":{\"gridcolor\":\"white\",\"linecolor\":\"white\",\"ticks\":\"\"}},\"ternary\":{\"bgcolor\":\"#E5ECF6\",\"aaxis\":{\"gridcolor\":\"white\",\"linecolor\":\"white\",\"ticks\":\"\"},\"baxis\":{\"gridcolor\":\"white\",\"linecolor\":\"white\",\"ticks\":\"\"},\"caxis\":{\"gridcolor\":\"white\",\"linecolor\":\"white\",\"ticks\":\"\"}},\"coloraxis\":{\"colorbar\":{\"outlinewidth\":0,\"ticks\":\"\"}},\"colorscale\":{\"sequential\":[[0.0,\"#0d0887\"],[0.1111111111111111,\"#46039f\"],[0.2222222222222222,\"#7201a8\"],[0.3333333333333333,\"#9c179e\"],[0.4444444444444444,\"#bd3786\"],[0.5555555555555556,\"#d8576b\"],[0.6666666666666666,\"#ed7953\"],[0.7777777777777778,\"#fb9f3a\"],[0.8888888888888888,\"#fdca26\"],[1.0,\"#f0f921\"]],\"sequentialminus\":[[0.0,\"#0d0887\"],[0.1111111111111111,\"#46039f\"],[0.2222222222222222,\"#7201a8\"],[0.3333333333333333,\"#9c179e\"],[0.4444444444444444,\"#bd3786\"],[0.5555555555555556,\"#d8576b\"],[0.6666666666666666,\"#ed7953\"],[0.7777777777777778,\"#fb9f3a\"],[0.8888888888888888,\"#fdca26\"],[1.0,\"#f0f921\"]],\"diverging\":[[0,\"#8e0152\"],[0.1,\"#c51b7d\"],[0.2,\"#de77ae\"],[0.3,\"#f1b6da\"],[0.4,\"#fde0ef\"],[0.5,\"#f7f7f7\"],[0.6,\"#e6f5d0\"],[0.7,\"#b8e186\"],[0.8,\"#7fbc41\"],[0.9,\"#4d9221\"],[1,\"#276419\"]]},\"xaxis\":{\"gridcolor\":\"white\",\"linecolor\":\"white\",\"ticks\":\"\",\"title\":{\"standoff\":15},\"zerolinecolor\":\"white\",\"automargin\":true,\"zerolinewidth\":2},\"yaxis\":{\"gridcolor\":\"white\",\"linecolor\":\"white\",\"ticks\":\"\",\"title\":{\"standoff\":15},\"zerolinecolor\":\"white\",\"automargin\":true,\"zerolinewidth\":2},\"scene\":{\"xaxis\":{\"backgroundcolor\":\"#E5ECF6\",\"gridcolor\":\"white\",\"linecolor\":\"white\",\"showbackground\":true,\"ticks\":\"\",\"zerolinecolor\":\"white\",\"gridwidth\":2},\"yaxis\":{\"backgroundcolor\":\"#E5ECF6\",\"gridcolor\":\"white\",\"linecolor\":\"white\",\"showbackground\":true,\"ticks\":\"\",\"zerolinecolor\":\"white\",\"gridwidth\":2},\"zaxis\":{\"backgroundcolor\":\"#E5ECF6\",\"gridcolor\":\"white\",\"linecolor\":\"white\",\"showbackground\":true,\"ticks\":\"\",\"zerolinecolor\":\"white\",\"gridwidth\":2}},\"shapedefaults\":{\"line\":{\"color\":\"#2a3f5f\"}},\"annotationdefaults\":{\"arrowcolor\":\"#2a3f5f\",\"arrowhead\":0,\"arrowwidth\":1},\"geo\":{\"bgcolor\":\"white\",\"landcolor\":\"#E5ECF6\",\"subunitcolor\":\"white\",\"showland\":true,\"showlakes\":true,\"lakecolor\":\"white\"},\"title\":{\"x\":0.05},\"mapbox\":{\"style\":\"light\"}}},\"xaxis\":{\"anchor\":\"y\",\"domain\":[0.0,0.45],\"range\":[0,3984]},\"yaxis\":{\"anchor\":\"x\",\"domain\":[0.55,1.0],\"title\":{\"text\":\"Loss\"},\"type\":\"log\"},\"xaxis2\":{\"anchor\":\"y2\",\"domain\":[0.55,1.0],\"range\":[0,3984]},\"yaxis2\":{\"anchor\":\"x2\",\"domain\":[0.55,1.0],\"title\":{\"text\":\"Acc\"}},\"xaxis3\":{\"anchor\":\"y3\",\"domain\":[0.0,0.45],\"range\":[0,3984]},\"yaxis3\":{\"anchor\":\"x3\",\"domain\":[0.0,0.45],\"title\":{\"text\":\"L1 norm\"}},\"xaxis4\":{\"anchor\":\"y4\",\"domain\":[0.55,1.0],\"range\":[0,3984]},\"yaxis4\":{\"anchor\":\"x4\",\"domain\":[0.0,0.45],\"title\":{\"text\":\"L2 norm\"}},\"annotations\":[{\"font\":{\"size\":16},\"showarrow\":false,\"text\":\"Loss\",\"x\":0.225,\"xanchor\":\"center\",\"xref\":\"paper\",\"y\":1.0,\"yanchor\":\"bottom\",\"yref\":\"paper\"},{\"font\":{\"size\":16},\"showarrow\":false,\"text\":\"Accuracy\",\"x\":0.775,\"xanchor\":\"center\",\"xref\":\"paper\",\"y\":1.0,\"yanchor\":\"bottom\",\"yref\":\"paper\"},{\"font\":{\"size\":16},\"showarrow\":false,\"text\":\"L1 Norm\",\"x\":0.225,\"xanchor\":\"center\",\"xref\":\"paper\",\"y\":0.45,\"yanchor\":\"bottom\",\"yref\":\"paper\"},{\"font\":{\"size\":16},\"showarrow\":false,\"text\":\"L2 Norm\",\"x\":0.775,\"xanchor\":\"center\",\"xref\":\"paper\",\"y\":0.45,\"yanchor\":\"bottom\",\"yref\":\"paper\"}],\"height\":800,\"hovermode\":\"closest\"},                        {\"responsive\": true}                    ).then(function(){\n",
              "                            \n",
              "var gd = document.getElementById('83143d52-39a4-46cb-a5e2-41e40de78f1a');\n",
              "var x = new MutationObserver(function (mutations, observer) {{\n",
              "        var display = window.getComputedStyle(gd).display;\n",
              "        if (!display || display === 'none') {{\n",
              "            console.log([gd, 'removed!']);\n",
              "            Plotly.purge(gd);\n",
              "            observer.disconnect();\n",
              "        }}\n",
              "}});\n",
              "\n",
              "// Listen for the removal of the full notebook cells\n",
              "var notebookContainer = gd.closest('#notebook-container');\n",
              "if (notebookContainer) {{\n",
              "    x.observe(notebookContainer, {childList: true});\n",
              "}}\n",
              "\n",
              "// Listen for the clearing of the current output cell\n",
              "var outputEl = gd.closest('.output');\n",
              "if (outputEl) {{\n",
              "    x.observe(outputEl, {childList: true});\n",
              "}}\n",
              "\n",
              "                        })                };                            </script>        </div>\n",
              "</body>\n",
              "</html>"
            ]
          },
          "metadata": {},
          "output_type": "display_data"
        }
      ],
      "source": [
        "plot_training(all_metrics)"
      ]
    },
    {
      "cell_type": "code",
      "execution_count": 28,
      "metadata": {
        "colab": {
          "base_uri": "https://localhost:8080/",
          "height": 817
        },
        "id": "vhq5itpx9XHM",
        "outputId": "18f011d2-0953-4b20-84e4-77b8c4779165"
      },
      "outputs": [
        {
          "data": {
            "text/html": [
              "<html>\n",
              "<head><meta charset=\"utf-8\" /></head>\n",
              "<body>\n",
              "    <div>            <script src=\"https://cdnjs.cloudflare.com/ajax/libs/mathjax/2.7.5/MathJax.js?config=TeX-AMS-MML_SVG\"></script><script type=\"text/javascript\">if (window.MathJax && window.MathJax.Hub && window.MathJax.Hub.Config) {window.MathJax.Hub.Config({SVG: {font: \"STIX-Web\"}});}</script>                <script type=\"text/javascript\">window.PlotlyConfig = {MathJaxConfig: 'local'};</script>\n",
              "        <script charset=\"utf-8\" src=\"https://cdn.plot.ly/plotly-2.35.2.min.js\"></script>                <div id=\"fc69ea29-56b2-4a70-8f4e-572a1d4d4f68\" class=\"plotly-graph-div\" style=\"height:800px; width:800px;\"></div>            <script type=\"text/javascript\">                                    window.PLOTLYENV=window.PLOTLYENV || {};                                    if (document.getElementById(\"fc69ea29-56b2-4a70-8f4e-572a1d4d4f68\")) {                    Plotly.newPlot(                        \"fc69ea29-56b2-4a70-8f4e-572a1d4d4f68\",                        [{\"colorscale\":[[0.0,\"rgb(103,0,31)\"],[0.1,\"rgb(178,24,43)\"],[0.2,\"rgb(214,96,77)\"],[0.3,\"rgb(244,165,130)\"],[0.4,\"rgb(253,219,199)\"],[0.5,\"rgb(247,247,247)\"],[0.6,\"rgb(209,229,240)\"],[0.7,\"rgb(146,197,222)\"],[0.8,\"rgb(67,147,195)\"],[0.9,\"rgb(33,102,172)\"],[1.0,\"rgb(5,48,97)\"]],\"name\":\"hidden w\",\"z\":[[-3.285439015598968e-05,-2.798399691528175e-05,-2.0568450054270215e-05,-2.3317220438912045e-06,0.0005867512081749737,4.866237213718705e-05,0.0019424359779804945,6.006126568536274e-06,0.07552950084209442,-1.2715598813883844e-06,0.00012649771815631539,-3.489074879325926e-05,-0.00018135341815650463,2.592369556427002,-5.8143454225501046e-05,0.000222777875023894,0.00012140574835939333,-1.0966964936187651e-07,0.0007283205050043762,-4.679282574215904e-05,-2.398960828781128,2.3861886802478693e-05,-8.989024354377761e-05,0.00013584959378931671,-3.683775560148206e-07,-0.00011755534796975553,3.2633187770843506,5.5215634347405285e-05,0.0005468433373607695,1.200954011437716e-05,0.00016326596960425377,2.517942812119145e-05],[-8.159378194250166e-05,-0.0002646994835231453,7.107262354111299e-05,-7.657974492758512e-05,2.555472747189924e-05,6.230127473827451e-05,-1.2675280231633224e-05,-4.2668936657719314e-05,-0.008467614650726318,5.561688885791227e-05,0.0002147854829672724,1.0163751085201511e-06,-2.524922638258431e-05,-2.591665267944336,-5.267333835945465e-05,-2.887468144763261e-05,-0.0005058423266746104,-3.0198345484677702e-05,0.00011623426689766347,-8.116213575704023e-05,2.398953914642334,-2.4652103093103506e-05,-1.896757680697192e-06,-0.00014606863260269165,5.240955943008885e-05,-2.3376513127004728e-05,-3.2637276649475098,-2.7553076506592333e-05,-0.01309062447398901,1.8458853446645662e-05,-1.4723642379976809e-05,6.980014586588368e-05],[-3.7023655750090256e-05,-3.975653453380801e-05,-9.089874947676435e-05,0.00013557470811065286,-5.505802982952446e-05,-1.0823892807820812e-05,-0.0014008660800755024,-4.0511213228455745e-06,-0.19156520068645477,0.0003199933853466064,1.024986067932332e-05,-0.0005093938088975847,-0.000139330790261738,2.592005729675293,-0.000150569889228791,1.3653761925525032e-05,1.8388611351838335e-05,-0.0001393851125612855,0.30011922121047974,9.878368291538209e-05,-2.3990895748138428,-3.773466232814826e-05,2.6536714358371682e-05,3.813738658209331e-05,-8.9960616605822e-05,5.45464972674381e-05,3.263298273086548,-0.0001415841543348506,0.0022415996063500643,0.00010477456089574844,-6.0983074945397675e-05,-2.8847074645454995e-05],[5.250511549093062e-06,-6.855073297629133e-05,3.260643779867678e-06,-1.26372551676468e-05,5.343065640772693e-05,4.434350921656005e-05,8.185205842892174e-06,-7.579492375953123e-05,-0.0001411707780789584,4.89951235067565e-05,-9.310492896474898e-05,1.8022496078629047e-05,-0.00016297714319080114,-5.375554792408366e-06,-1.9391911791899474e-06,-0.0001176119694719091,0.0001993913610931486,3.2544070563744754e-05,0.0008416815544478595,-4.265858660801314e-05,8.17694453871809e-05,-4.3831736547872424e-05,4.0034388803178445e-05,5.1341870857868344e-05,1.2491040251916274e-05,2.9529701350838877e-07,-0.00022091616119723767,0.00027764771948568523,-8.96291239769198e-05,6.243013922357932e-05,2.555554237915203e-05,0.00038700090954080224],[9.585679072188213e-05,3.6139085750619415e-06,-5.224008873483399e-06,-1.4208254469849635e-05,-0.00021158896561246365,-8.423181134276092e-05,0.00048390281153842807,0.00010370194650022313,1.1774509403039701e-05,0.0001759124279487878,6.324126297840849e-05,-2.5307759642601013e-05,-1.2781879377143923e-06,2.7492653316585347e-05,-8.637068094685674e-05,-0.0004046693502459675,-1.4766924323339481e-05,0.00010676772944862023,5.938753020018339e-06,0.0004981152014806867,9.134403626376297e-06,-5.297420557326404e-06,-4.207949314150028e-05,1.2282385796424933e-05,-1.905114550027065e-05,-0.00010543310054345056,-0.00022285249724518508,-0.0001389591343468055,0.0005250182002782822,6.91588647896424e-05,-9.439119821763597e-06,-4.593439734890126e-05],[0.0005522879073396325,0.00020695696002803743,-0.00019199398229829967,-0.00013008502719458193,5.294686707202345e-05,0.00023301011242438108,0.0007461293134838343,-8.758772310102358e-05,0.0006959064048714936,-7.164328417275101e-05,-7.324235048145056e-05,-0.00012172068090876564,-5.383542156778276e-05,-0.00040577020263299346,-0.0001749755465425551,-0.0001249831693712622,1.6310092178173363e-05,1.9319497368996963e-05,0.006743950303643942,0.00032943327096290886,-3.737923543667421e-05,5.597191920969635e-05,-9.61303271651559e-07,-4.180001997156069e-05,4.023026122013107e-06,7.045180245768279e-05,-8.852067549014464e-05,2.5989118512370624e-05,0.00016106812108773738,2.6092646294273436e-05,1.621078627067618e-05,-0.00010801701137097552],[-1.0484966878721025e-05,0.00013056803436484188,-6.912570825079456e-05,-5.297739335219376e-05,-2.6084899218403734e-05,0.00011755745799746364,0.0001054858003044501,-5.480370236909948e-05,0.0008687618537805974,-3.704686969285831e-05,-6.152473360998556e-05,-0.0001427909010089934,7.053088484099135e-05,-3.513147748890333e-05,0.00010497848415980116,-0.0005044538993388414,-1.7020660379785113e-05,5.999258428346366e-05,0.002434013644233346,8.059061656240374e-05,-9.052418317878619e-05,0.0008190101943910122,-0.000274465826805681,-9.893006790662184e-05,-2.6827976398635656e-05,-0.0001393388374708593,-0.00026376990717835724,-0.00019682428683154285,-0.00010007333185058087,-5.0998973165405914e-05,-4.639679173124023e-05,-0.0002977499971166253],[5.265983782010153e-05,-2.1749910956714302e-05,-7.971132436068729e-05,-3.2555926736677065e-05,1.678907028690446e-05,1.950605474121403e-05,6.931822281330824e-05,0.00033911041100509465,-3.9762206142768264e-05,0.0001046854886226356,-5.463862180477008e-06,3.5704935726244e-05,2.6399802663945593e-05,-1.6339741932824836e-06,0.00037878210423514247,7.433554128510877e-05,-5.781589061371051e-05,2.0807745386264287e-05,0.0006920681335031986,1.3233519894129131e-05,0.0002125459723174572,-2.5100938728428446e-05,-1.9717839677468874e-05,0.00012314152263570577,-7.794859993737191e-05,0.0001705077156657353,-8.490113395964727e-05,-8.481599797960371e-05,0.00021226922399364412,0.0001718378916848451,1.3728102203458548e-05,6.742271216353402e-05],[-8.440942474408075e-05,0.00016930130368564278,1.7912982002599165e-05,6.965434295125306e-05,1.1761653695430141e-05,-6.313570338534191e-05,-3.124085924355313e-05,0.00026386749232187867,0.0007256719982251525,-2.029622919508256e-06,7.940258001326583e-06,2.763555312412791e-05,0.00032588618341833353,-4.8556652473052964e-05,-3.188776827300899e-05,0.00019950208661612123,-0.0001497812190791592,-0.00022737127437721938,0.0006325963186100125,5.44839131180197e-05,4.081495353602804e-05,-0.00020418688654899597,-7.263832230819389e-06,5.8098372392123565e-05,7.050519343465567e-06,-4.536881533567794e-05,-9.982802293961868e-05,6.67627391521819e-05,-0.00021115470735821873,-9.58561067818664e-05,0.00011535114026628435,-0.000297561869956553],[-0.00012745341518893838,-3.435743929003365e-05,-5.4803775128675625e-05,5.0949274736922234e-06,-9.870746725937352e-05,-0.0002752239815890789,0.0004791107785422355,1.5509751392528415e-05,0.00013180114910937846,-3.825953899649903e-05,-4.121643996768398e-06,-3.6346620618132874e-05,-2.9632843506988138e-05,0.00017184131138492376,1.3649454558617435e-05,0.00012349669123068452,7.577487122034654e-05,-1.3827982002112549e-05,-3.995683982793707e-06,-2.8479451430030167e-05,0.00016425912326667458,2.6125198928639293e-05,-8.396292105317116e-05,7.223304419312626e-05,0.00010624696005834267,7.493039447581396e-05,-1.830531982704997e-05,6.243291181817767e-07,-0.0005474030040204525,3.99176096834708e-05,-0.0001090717050828971,0.0002155198744731024],[0.00010590866440907121,-0.0005540005513466895,-5.789862370875198e-06,9.429344572708942e-06,4.642812564270571e-05,0.0001614811917534098,1.0578399269434158e-05,-3.0737945053260773e-05,-1.190249236060481e-06,-1.45940566653735e-05,-1.9273318685009144e-05,-5.817707278765738e-05,3.7402929592644796e-05,3.219792415620759e-05,-0.0002184346958529204,-1.0716298675106373e-06,-9.867948392638937e-05,-3.0463366783806123e-05,-0.00012206318933749571,-0.00010961005318677053,-8.725698717171326e-05,-5.478368984768167e-05,0.0001016922906273976,1.9154973415425047e-05,-6.698987999698147e-05,-0.0001078606874216348,-0.00017091356858145446,0.00012794880603905767,-0.0001450657146051526,2.107716500177048e-05,8.141660509863868e-05,6.323732668533921e-05],[-4.814427302335389e-05,-3.55242591467686e-05,2.6333396817790344e-05,0.0001296766276936978,-4.119873119634576e-05,-1.2343450180196669e-05,-3.61063503078185e-05,7.061223004711792e-05,0.0004109794390387833,-7.179860858741449e-06,4.472576983971521e-05,-4.245595846441574e-06,-3.388435652595945e-05,-0.00016480658086948097,2.4973851395770907e-05,-0.00018909215577878058,2.553376180003397e-05,2.074723488476593e-05,0.00021603638015221804,-1.9303277440485545e-05,-0.000415020011132583,-3.255374758737162e-05,0.00011189722135895863,-2.768621561699547e-05,0.0001214891453855671,-5.4766096582170576e-05,-0.00010607497824821621,0.0001284994650632143,0.00027122520259581506,8.15092571428977e-05,-3.946793367504142e-05,-0.00010560223017819226],[-5.252740265859757e-06,6.634341843891889e-05,-0.00011871537572005764,-1.9430184693192132e-05,2.021792170125991e-05,2.4553450202802196e-05,0.00012808908650185913,-1.1443402399891056e-05,-0.00015648080443497747,-1.9469323888188228e-05,4.022691791760735e-05,0.00013550659059546888,0.00018808753520715982,3.4954431612277403e-05,1.6222511476371437e-05,-7.954745524330065e-05,3.9823724364396185e-05,-6.845845928182825e-05,0.00013890452100895345,2.4510029106750153e-05,-0.00027316916384734213,5.7806049881037325e-05,-8.307751159009058e-06,-1.144629277405329e-05,4.509162317845039e-05,4.687971159000881e-05,-8.916525985114276e-05,9.882029553409666e-05,0.00014384945097845048,-2.66889273916604e-05,-1.725805486785248e-05,-2.147279701603111e-06],[-2.299792322446592e-05,3.553779606590979e-05,-0.0002029724419116974,2.7009406039724126e-05,4.275538958609104e-05,2.8233451303094625e-05,0.0006499089067801833,-2.6842350052902475e-05,0.00037801670259796083,-5.7614735851529986e-05,-1.2730547496175859e-05,-0.00012817748938687146,-6.691945600323379e-05,1.1255862773396075e-05,-2.0511040929704905e-05,-8.01621499704197e-05,4.860610715695657e-05,-1.8980410459334962e-05,0.002559298649430275,0.00013904830848332494,-0.00025883459602482617,-0.00019168813014402986,-3.405127063160762e-05,4.735204129246995e-05,1.2308595614740625e-05,7.089488644851372e-05,3.363061114214361e-05,0.00047555784112773836,3.0072937079239637e-05,-9.965985373128206e-05,8.186894410755485e-05,0.00011129201448056847],[1.7829246701239754e-07,1.0573201052466175e-06,4.797982910531573e-05,4.050916322739795e-05,6.290422606980428e-05,-6.0117425164207816e-05,0.0001912115403683856,-7.595445640617982e-05,9.902095189318061e-05,-0.00014127038593869656,-0.00014128595648799092,5.535204036277719e-05,2.9441189326462336e-05,-4.9365946324542165e-05,-4.3914584239246324e-05,-3.0480405257549137e-05,0.00013083763769827783,7.248319161590189e-05,0.0010484353406354785,1.2373475328786299e-05,3.783204874707735e-06,0.00015451844956260175,-0.0001474304444855079,-8.256311411969364e-05,-0.0001283929741475731,-9.840977872954682e-05,-0.00014232237299438566,0.00010897574975388125,0.0006813106592744589,7.469723641406745e-06,-1.6818625226733275e-05,4.850276127399411e-06],[1.0911580829997547e-05,8.949548646342009e-05,-8.9228167780675e-05,-1.2845584933529608e-05,-8.834328764351085e-05,-9.743972441356163e-06,8.163540769601241e-05,1.3008557289140299e-05,0.0001158736486104317,-2.526719617890194e-05,8.9319481048733e-05,5.374665852286853e-05,-0.00028104058583267033,5.456015787785873e-05,-5.1289345719851553e-05,-0.00021579046733677387,2.664809835550841e-05,-0.00014745914086233824,6.22953157289885e-05,-0.0001327950885752216,-0.00011466291471151635,-0.00018391027697362006,-2.0082181436009705e-05,4.365442873677239e-05,-0.00015937545686028898,6.822616342105903e-06,-5.723599679186009e-05,-8.074034849414602e-05,-5.5559805332450196e-05,1.3170561032893602e-05,0.0001777724246494472,2.4560995370848104e-06],[-4.2961628423654474e-06,4.6524288336513564e-05,9.285271517001092e-05,-1.917983354360331e-05,5.3520048822974786e-05,-1.1350013664923608e-05,-0.0003907409554813057,-5.208613220020197e-05,0.0010827764635905623,0.000206535987672396,0.000126117913168855,-2.086628455799655e-06,-7.290176199603593e-06,5.265850268187933e-05,-8.720790356164798e-05,0.0003238609933760017,5.084315125714056e-05,1.4349199773278087e-05,0.0008963672444224358,-9.201840839523356e-06,-0.00012244975368957967,-1.087386772269383e-05,7.020795237622224e-06,-6.822700379416347e-05,2.494961881893687e-05,2.154213871108368e-05,-0.00018375100626144558,0.00022801593877375126,-3.3348551369272172e-06,5.116546162753366e-05,6.80839002598077e-05,4.2273791223124135e-06],[2.7609799872152507e-05,-0.00023133476497605443,-5.945973680354655e-05,-0.00020590600615832955,-4.023532892460935e-05,-1.0074566034745658e-06,5.331817737896927e-05,0.00010124463005922735,3.4999498893739656e-05,-2.0024383047712035e-05,-1.1099616131104995e-05,0.0004706261388491839,-3.7463847547769547e-05,-8.22462752694264e-05,1.5189637451840099e-05,-3.100314415860339e-06,5.9027838688052725e-06,-6.590606790268794e-05,0.00045755470637232065,9.708244760986418e-06,-0.0002171913511119783,-1.936718399520032e-05,-7.032984285615385e-06,-1.2925280316267163e-05,-8.589448407292366e-05,4.9544210924068466e-05,-6.96869392413646e-05,1.7691651009954512e-05,0.00010070062126033008,1.8672832084121183e-05,5.514651275007054e-05,-9.979979950003326e-05],[-3.449200085015036e-05,2.379752004344482e-05,-3.2659903808962554e-05,-6.304487033048645e-05,0.00034214428160339594,8.077030361164361e-05,0.0005694747087545693,1.1462831935205031e-05,0.0001981570094358176,-0.0002857116633094847,-8.111252100206912e-06,3.221192673663609e-05,3.437921986915171e-05,-0.00015947424981277436,-0.0001424680813215673,-4.9517791921971366e-05,-0.0001245936582563445,-8.313145372085273e-06,0.002343220403417945,-1.9163109755027108e-05,0.0002555923711042851,0.0001339265872957185,1.6431640688097104e-05,7.121471571736038e-05,-4.0919840103015304e-05,7.948097481857985e-05,2.1850972188985907e-05,0.00023211548977997154,-8.551178325433284e-05,-6.404149462468922e-05,-1.989023803616874e-05,0.00016343391325790435],[5.727571874558635e-07,-6.747290171915665e-05,8.120676648104563e-05,-0.00021571203251369298,-7.994547922862694e-05,9.271902672480792e-05,0.00018182933854404837,-3.1003670301288366e-05,0.00017453686450608075,1.6522772057214752e-05,-1.2144101674493868e-05,-0.0001686166215222329,8.021911344258115e-05,-5.0202637794427574e-05,0.00025291898055002093,-6.302385736489668e-05,4.607873506756732e-06,-7.532024756073952e-05,0.002414250047877431,3.473626520644757e-06,-7.128668949007988e-05,1.649680416448973e-05,-0.00017113234207499772,7.424763316521421e-05,5.579914432018995e-05,-6.85889390297234e-05,-4.929409988108091e-05,-4.169165185885504e-05,-0.00019176198111381382,0.00013119455252308398,-0.00014912753249518573,-6.802729330956936e-05],[5.195890935283387e-06,1.4216403769751196e-06,-4.615950820152648e-05,0.0002587105263955891,0.0003581528435461223,-2.651037175382953e-05,0.0005604653852060437,6.136627052910626e-05,0.0006932613905519247,4.187475497019477e-05,9.245458932127804e-05,3.048487451451365e-05,-2.876771304727299e-06,0.00021466337784659117,5.273305214359425e-05,-0.00011558602272998542,8.636323764221743e-05,4.752754466608167e-05,0.013022131286561489,8.200675551961467e-07,0.000121290773677174,4.2418581870151684e-05,-6.420818681363016e-05,0.00014729132817592472,4.31020998803433e-05,-0.00010077672777697444,-0.00010621556430123746,-3.8981892430456355e-05,-0.00015995607827790082,4.189413448330015e-05,0.00013862365449313074,-2.1503108200704446e-06],[8.704119682079181e-05,0.00023488939041271806,-1.3091026630718261e-05,-4.202662967145443e-05,4.599684689310379e-05,-3.534473944455385e-05,0.00011333614384057,-8.311137207783759e-05,-1.5209476259769872e-05,-0.00011240020830882713,-7.776506390655413e-05,2.9483111575245857e-05,2.8112499421695247e-06,5.3686184401158243e-05,0.0003115280997008085,-1.4243444638850633e-05,-0.0002891052281484008,-6.848740304121748e-05,0.0010815466521307826,0.000574894598685205,4.4819233153248206e-05,8.206905476981774e-05,-6.999437118793139e-06,-5.891314140171744e-05,-0.00013394745474215597,0.0001580752432346344,-8.4094368503429e-05,4.613395140040666e-05,0.0002949948830064386,-7.517766789533198e-05,0.0007395753636956215,-9.429571946384385e-06],[-7.659546827198938e-05,-1.160293663815537e-06,2.4095314074656926e-05,8.141572470776737e-05,-0.00011608615750446916,2.2715668819728307e-05,0.00034661541576497257,-7.404021016554907e-05,0.00012410865747369826,3.06274596368894e-05,2.108616718032863e-05,-5.525660890270956e-05,0.00015642112703062594,0.00016257028619293123,0.00012849165068473667,1.4459202247962821e-05,-1.1945958249270916e-05,-0.00012515130219981074,0.0001973392500076443,4.450961569091305e-06,4.428773172548972e-05,3.9016817027004436e-05,-2.185709854529705e-05,7.693833322264254e-05,-6.59511424601078e-05,-6.881260924274102e-05,2.0203098756610416e-05,4.841709596803412e-05,0.0004322197928559035,8.301140769617632e-05,0.0002566748589742929,-0.000158593466039747],[-2.1388468667282723e-05,-4.9479189328849316e-05,-2.8633417969103903e-05,-2.229564961453434e-05,0.0002482468553353101,-6.452248635469005e-05,8.659433660795912e-06,-1.8674085367820226e-05,3.4525946830399334e-05,-0.00012158711615484208,-2.4333854526048526e-05,6.372916686814278e-05,0.0002881508262362331,-2.8000540623907e-05,-7.294958777492866e-05,-0.00015503476606681943,-0.00020806722750421613,2.782772025966551e-05,0.0005062082200311124,-7.825884677004069e-05,-2.6667539714253508e-05,-3.1076873710844666e-05,-6.336339720292017e-05,1.3064959603070747e-05,8.213304681703448e-05,0.0001752074167598039,2.3129805413191207e-05,0.0002747397229541093,-0.0006528035155497491,0.00011593385715968907,3.678969369502738e-05,0.0001479983184253797],[0.0002226070937467739,7.60075927246362e-05,6.922960164956748e-05,-6.994135037530214e-05,-6.204136298038065e-05,0.00028889410896226764,0.0004979103105142713,0.0001003032666631043,3.759172614081763e-05,-2.0672488972195424e-05,6.158535688882694e-05,-4.87298057123553e-05,-6.70881854603067e-05,2.6925279598799534e-05,3.8533918996108696e-05,-1.9676558622450102e-06,-5.101749411551282e-05,-2.4675906388438307e-05,0.00016245855658780783,-8.614498483439093e-07,0.00022055306180845946,1.1305350199108943e-05,4.5709261030424386e-05,5.7736735470825806e-05,3.653607564046979e-05,1.9934639567509294e-05,-0.00018050038488581777,-0.00010871847916860133,0.00016566597332712263,-5.990773206576705e-05,-3.939638554584235e-05,-0.0002920863626059145],[-0.00016315042739734054,0.00010338494757888839,-6.496207788586617e-05,0.00026366798556409776,0.00013565036351792514,0.00012947544746566564,-9.271063026972115e-05,0.00012919626897200942,-4.2250445403624326e-05,-4.88309160573408e-05,-3.356500019435771e-05,-7.216382073238492e-05,6.805351586081088e-05,-2.4746863346081227e-05,4.543498653220013e-05,3.724385896930471e-05,-9.867217886494473e-05,-1.3353937902138568e-05,0.002704404992982745,8.219174924306571e-05,-0.00014356990868691355,4.328659997554496e-06,-1.6077594409580342e-05,0.0003600827476475388,2.2092131985118613e-05,-3.1432344258064404e-05,3.3131454983958974e-05,-2.1576384824584238e-05,-0.00040962547063827515,-0.0002677259617485106,9.613970178179443e-05,-4.177354276180267e-05],[-0.00020952658087480813,-2.3367532776319422e-05,0.00010605771240079775,-8.241796604124829e-05,-2.7184658392798156e-05,2.9700824597966857e-05,5.241170947556384e-05,8.313282887684181e-05,0.0008997998666018248,6.642344669671729e-05,-1.635681292100344e-05,9.74376052909065e-06,2.6642264856491238e-05,4.343031469034031e-05,-6.916934944456443e-05,-1.3586187378678005e-05,-4.008871110272594e-05,0.00012779660755768418,3.767872112803161e-05,7.89921177783981e-05,-4.399578756419942e-05,3.805368032772094e-05,8.267129305750132e-05,5.018135652790079e-06,4.967701170244254e-05,1.1628235370153561e-06,-0.00023034100013319403,-7.831010589143261e-05,-8.331746357725933e-05,4.542136230156757e-05,0.0003323835553601384,-1.9752549633267336e-05],[0.00013207658776082098,1.7801230569602922e-06,-7.281937541847583e-06,3.454428224358708e-05,4.8217207222478464e-05,0.0001807217631721869,0.0007216925150714815,-5.525602318812162e-05,0.00017174980894196779,-0.0002812762395478785,0.00013086330727674067,-0.0001816097501432523,-4.154818816459738e-05,0.00019081767823081464,-0.0001090639634639956,3.6681161873275414e-05,-0.00018032423395197839,7.782103057252243e-05,0.0007422041380777955,0.00011120772251160815,-4.539075598586351e-05,-0.00010531977022765204,-2.9446329790516756e-05,-0.0001792294206097722,-2.8404799650161294e-06,-4.0636710764374584e-05,-0.0003127471427433193,-0.00024904971360228956,-0.00032973161432892084,-2.1334830307750963e-05,0.00011735494626918808,0.00018307221762370318],[0.00011767099931603298,4.903526496491395e-05,-9.034378308570012e-05,3.0553248507203534e-05,-7.092385203577578e-05,-4.809896563529037e-05,0.00017675467825029045,-9.61070618359372e-05,-0.00024108655634336174,-8.595521308052412e-07,-8.271152296401851e-07,7.48526508687064e-05,-4.4519143557408825e-05,0.00013200240209698677,0.00014689526869915426,3.418434425839223e-05,8.9996014139615e-05,-1.8967231881106272e-05,-0.00014226240455172956,1.0628592463035602e-05,-5.775324461865239e-05,3.4455482818884775e-05,-0.0001247524342034012,9.86189697869122e-05,-1.2018000234093051e-05,-7.187270239228383e-05,-9.153905557468534e-05,-0.00011503123096190393,-0.00036339517100714147,8.478852578264195e-06,5.135092214914039e-05,2.4803455744404346e-05],[8.847688150126487e-06,1.5134466593735851e-05,-0.0006109243840910494,6.946559005882591e-05,-2.47795269388007e-05,2.889661118388176e-05,0.0003646420664153993,-5.829723522765562e-05,0.00031933875288814306,-1.2573961612361018e-05,0.00015464254829566926,0.0002444008132442832,8.101220737444237e-05,-0.00018389271281193942,4.767456266563386e-05,-3.909179469019364e-08,-3.156087768729776e-05,-7.042136712698266e-05,0.00028754016966558993,-0.0002651997492648661,0.00022245731088332832,2.7233740183874033e-05,2.7795167625299655e-05,-4.6042867325013503e-05,-5.705620424123481e-05,7.590185850858688e-05,-7.793210897943936e-06,4.55306435469538e-05,0.00039744589594192803,-5.254350071481895e-06,-3.1187203148874687e-06,0.0001708063791738823],[-5.544018858927302e-05,-6.107940862420946e-05,-7.127429853426293e-05,-1.9678089302033186e-05,-0.00018550362437963486,4.0758121031103656e-05,0.001620374503545463,-4.5321106881601736e-05,0.186850905418396,0.0003164497029501945,-6.145069346530363e-05,0.00015158667520154268,2.8780617867596447e-05,-1.9830893506878056e-05,-0.00014310151163954288,0.00011786371760535985,-2.0683635739260353e-05,0.00016223476268351078,2.8540592193603516,-1.989759402931668e-05,5.8724133850773796e-05,-0.0001074917963705957,-0.00040455645648762584,-0.00010418805322842672,-4.298032581573352e-05,2.7830308681586757e-05,-3.261977434158325,-7.327933417400345e-05,5.8802092098630965e-05,0.0004051356518175453,4.8551410145591944e-05,6.435286195483059e-05]],\"zmax\":11.873278617858887,\"zmid\":0,\"zmin\":-11.873278617858887,\"type\":\"heatmap\",\"xaxis\":\"x\",\"yaxis\":\"y\"},{\"colorscale\":[[0.0,\"rgb(103,0,31)\"],[0.1,\"rgb(178,24,43)\"],[0.2,\"rgb(214,96,77)\"],[0.3,\"rgb(244,165,130)\"],[0.4,\"rgb(253,219,199)\"],[0.5,\"rgb(247,247,247)\"],[0.6,\"rgb(209,229,240)\"],[0.7,\"rgb(146,197,222)\"],[0.8,\"rgb(67,147,195)\"],[0.9,\"rgb(33,102,172)\"],[1.0,\"rgb(5,48,97)\"]],\"name\":\"out w\",\"z\":[[-6.67461717966944e-05],[7.33574370315182e-06],[3.537592783686705e-05],[-4.221039853291586e-05],[0.00014393824676517397],[-0.00012287803110666573],[-1.7963650226593018],[-8.761005301494151e-05],[-2.360055685043335],[4.111629823455587e-05],[-0.00019314794917590916],[6.621374632231891e-05],[-5.079237598692998e-05],[7.518415451049805],[7.784664194332436e-05],[-2.8591491627594223e-06],[0.00022250908659771085],[-2.4006198145798407e-05],[-3.018533945083618],[-8.317227911902592e-05],[7.857011318206787],[0.00018840280245058239],[0.00013546845002565533],[-4.1284540202468634e-05],[-2.0962292182957754e-05],[0.0001185236542369239],[-11.873278617858887],[8.980389247881249e-05],[1.0415451526641846],[0.0002234625571873039],[-0.00016206376312766224],[-5.124183007865213e-05]],\"zmax\":11.873278617858887,\"zmid\":0,\"zmin\":-11.873278617858887,\"type\":\"heatmap\",\"xaxis\":\"x2\",\"yaxis\":\"y2\"}],                        {\"template\":{\"data\":{\"histogram2dcontour\":[{\"type\":\"histogram2dcontour\",\"colorbar\":{\"outlinewidth\":0,\"ticks\":\"\"},\"colorscale\":[[0.0,\"#0d0887\"],[0.1111111111111111,\"#46039f\"],[0.2222222222222222,\"#7201a8\"],[0.3333333333333333,\"#9c179e\"],[0.4444444444444444,\"#bd3786\"],[0.5555555555555556,\"#d8576b\"],[0.6666666666666666,\"#ed7953\"],[0.7777777777777778,\"#fb9f3a\"],[0.8888888888888888,\"#fdca26\"],[1.0,\"#f0f921\"]]}],\"choropleth\":[{\"type\":\"choropleth\",\"colorbar\":{\"outlinewidth\":0,\"ticks\":\"\"}}],\"histogram2d\":[{\"type\":\"histogram2d\",\"colorbar\":{\"outlinewidth\":0,\"ticks\":\"\"},\"colorscale\":[[0.0,\"#0d0887\"],[0.1111111111111111,\"#46039f\"],[0.2222222222222222,\"#7201a8\"],[0.3333333333333333,\"#9c179e\"],[0.4444444444444444,\"#bd3786\"],[0.5555555555555556,\"#d8576b\"],[0.6666666666666666,\"#ed7953\"],[0.7777777777777778,\"#fb9f3a\"],[0.8888888888888888,\"#fdca26\"],[1.0,\"#f0f921\"]]}],\"heatmap\":[{\"type\":\"heatmap\",\"colorbar\":{\"outlinewidth\":0,\"ticks\":\"\"},\"colorscale\":[[0.0,\"#0d0887\"],[0.1111111111111111,\"#46039f\"],[0.2222222222222222,\"#7201a8\"],[0.3333333333333333,\"#9c179e\"],[0.4444444444444444,\"#bd3786\"],[0.5555555555555556,\"#d8576b\"],[0.6666666666666666,\"#ed7953\"],[0.7777777777777778,\"#fb9f3a\"],[0.8888888888888888,\"#fdca26\"],[1.0,\"#f0f921\"]]}],\"heatmapgl\":[{\"type\":\"heatmapgl\",\"colorbar\":{\"outlinewidth\":0,\"ticks\":\"\"},\"colorscale\":[[0.0,\"#0d0887\"],[0.1111111111111111,\"#46039f\"],[0.2222222222222222,\"#7201a8\"],[0.3333333333333333,\"#9c179e\"],[0.4444444444444444,\"#bd3786\"],[0.5555555555555556,\"#d8576b\"],[0.6666666666666666,\"#ed7953\"],[0.7777777777777778,\"#fb9f3a\"],[0.8888888888888888,\"#fdca26\"],[1.0,\"#f0f921\"]]}],\"contourcarpet\":[{\"type\":\"contourcarpet\",\"colorbar\":{\"outlinewidth\":0,\"ticks\":\"\"}}],\"contour\":[{\"type\":\"contour\",\"colorbar\":{\"outlinewidth\":0,\"ticks\":\"\"},\"colorscale\":[[0.0,\"#0d0887\"],[0.1111111111111111,\"#46039f\"],[0.2222222222222222,\"#7201a8\"],[0.3333333333333333,\"#9c179e\"],[0.4444444444444444,\"#bd3786\"],[0.5555555555555556,\"#d8576b\"],[0.6666666666666666,\"#ed7953\"],[0.7777777777777778,\"#fb9f3a\"],[0.8888888888888888,\"#fdca26\"],[1.0,\"#f0f921\"]]}],\"surface\":[{\"type\":\"surface\",\"colorbar\":{\"outlinewidth\":0,\"ticks\":\"\"},\"colorscale\":[[0.0,\"#0d0887\"],[0.1111111111111111,\"#46039f\"],[0.2222222222222222,\"#7201a8\"],[0.3333333333333333,\"#9c179e\"],[0.4444444444444444,\"#bd3786\"],[0.5555555555555556,\"#d8576b\"],[0.6666666666666666,\"#ed7953\"],[0.7777777777777778,\"#fb9f3a\"],[0.8888888888888888,\"#fdca26\"],[1.0,\"#f0f921\"]]}],\"mesh3d\":[{\"type\":\"mesh3d\",\"colorbar\":{\"outlinewidth\":0,\"ticks\":\"\"}}],\"scatter\":[{\"fillpattern\":{\"fillmode\":\"overlay\",\"size\":10,\"solidity\":0.2},\"type\":\"scatter\"}],\"parcoords\":[{\"type\":\"parcoords\",\"line\":{\"colorbar\":{\"outlinewidth\":0,\"ticks\":\"\"}}}],\"scatterpolargl\":[{\"type\":\"scatterpolargl\",\"marker\":{\"colorbar\":{\"outlinewidth\":0,\"ticks\":\"\"}}}],\"bar\":[{\"error_x\":{\"color\":\"#2a3f5f\"},\"error_y\":{\"color\":\"#2a3f5f\"},\"marker\":{\"line\":{\"color\":\"#E5ECF6\",\"width\":0.5},\"pattern\":{\"fillmode\":\"overlay\",\"size\":10,\"solidity\":0.2}},\"type\":\"bar\"}],\"scattergeo\":[{\"type\":\"scattergeo\",\"marker\":{\"colorbar\":{\"outlinewidth\":0,\"ticks\":\"\"}}}],\"scatterpolar\":[{\"type\":\"scatterpolar\",\"marker\":{\"colorbar\":{\"outlinewidth\":0,\"ticks\":\"\"}}}],\"histogram\":[{\"marker\":{\"pattern\":{\"fillmode\":\"overlay\",\"size\":10,\"solidity\":0.2}},\"type\":\"histogram\"}],\"scattergl\":[{\"type\":\"scattergl\",\"marker\":{\"colorbar\":{\"outlinewidth\":0,\"ticks\":\"\"}}}],\"scatter3d\":[{\"type\":\"scatter3d\",\"line\":{\"colorbar\":{\"outlinewidth\":0,\"ticks\":\"\"}},\"marker\":{\"colorbar\":{\"outlinewidth\":0,\"ticks\":\"\"}}}],\"scattermapbox\":[{\"type\":\"scattermapbox\",\"marker\":{\"colorbar\":{\"outlinewidth\":0,\"ticks\":\"\"}}}],\"scatterternary\":[{\"type\":\"scatterternary\",\"marker\":{\"colorbar\":{\"outlinewidth\":0,\"ticks\":\"\"}}}],\"scattercarpet\":[{\"type\":\"scattercarpet\",\"marker\":{\"colorbar\":{\"outlinewidth\":0,\"ticks\":\"\"}}}],\"carpet\":[{\"aaxis\":{\"endlinecolor\":\"#2a3f5f\",\"gridcolor\":\"white\",\"linecolor\":\"white\",\"minorgridcolor\":\"white\",\"startlinecolor\":\"#2a3f5f\"},\"baxis\":{\"endlinecolor\":\"#2a3f5f\",\"gridcolor\":\"white\",\"linecolor\":\"white\",\"minorgridcolor\":\"white\",\"startlinecolor\":\"#2a3f5f\"},\"type\":\"carpet\"}],\"table\":[{\"cells\":{\"fill\":{\"color\":\"#EBF0F8\"},\"line\":{\"color\":\"white\"}},\"header\":{\"fill\":{\"color\":\"#C8D4E3\"},\"line\":{\"color\":\"white\"}},\"type\":\"table\"}],\"barpolar\":[{\"marker\":{\"line\":{\"color\":\"#E5ECF6\",\"width\":0.5},\"pattern\":{\"fillmode\":\"overlay\",\"size\":10,\"solidity\":0.2}},\"type\":\"barpolar\"}],\"pie\":[{\"automargin\":true,\"type\":\"pie\"}]},\"layout\":{\"autotypenumbers\":\"strict\",\"colorway\":[\"#636efa\",\"#EF553B\",\"#00cc96\",\"#ab63fa\",\"#FFA15A\",\"#19d3f3\",\"#FF6692\",\"#B6E880\",\"#FF97FF\",\"#FECB52\"],\"font\":{\"color\":\"#2a3f5f\"},\"hovermode\":\"closest\",\"hoverlabel\":{\"align\":\"left\"},\"paper_bgcolor\":\"white\",\"plot_bgcolor\":\"#E5ECF6\",\"polar\":{\"bgcolor\":\"#E5ECF6\",\"angularaxis\":{\"gridcolor\":\"white\",\"linecolor\":\"white\",\"ticks\":\"\"},\"radialaxis\":{\"gridcolor\":\"white\",\"linecolor\":\"white\",\"ticks\":\"\"}},\"ternary\":{\"bgcolor\":\"#E5ECF6\",\"aaxis\":{\"gridcolor\":\"white\",\"linecolor\":\"white\",\"ticks\":\"\"},\"baxis\":{\"gridcolor\":\"white\",\"linecolor\":\"white\",\"ticks\":\"\"},\"caxis\":{\"gridcolor\":\"white\",\"linecolor\":\"white\",\"ticks\":\"\"}},\"coloraxis\":{\"colorbar\":{\"outlinewidth\":0,\"ticks\":\"\"}},\"colorscale\":{\"sequential\":[[0.0,\"#0d0887\"],[0.1111111111111111,\"#46039f\"],[0.2222222222222222,\"#7201a8\"],[0.3333333333333333,\"#9c179e\"],[0.4444444444444444,\"#bd3786\"],[0.5555555555555556,\"#d8576b\"],[0.6666666666666666,\"#ed7953\"],[0.7777777777777778,\"#fb9f3a\"],[0.8888888888888888,\"#fdca26\"],[1.0,\"#f0f921\"]],\"sequentialminus\":[[0.0,\"#0d0887\"],[0.1111111111111111,\"#46039f\"],[0.2222222222222222,\"#7201a8\"],[0.3333333333333333,\"#9c179e\"],[0.4444444444444444,\"#bd3786\"],[0.5555555555555556,\"#d8576b\"],[0.6666666666666666,\"#ed7953\"],[0.7777777777777778,\"#fb9f3a\"],[0.8888888888888888,\"#fdca26\"],[1.0,\"#f0f921\"]],\"diverging\":[[0,\"#8e0152\"],[0.1,\"#c51b7d\"],[0.2,\"#de77ae\"],[0.3,\"#f1b6da\"],[0.4,\"#fde0ef\"],[0.5,\"#f7f7f7\"],[0.6,\"#e6f5d0\"],[0.7,\"#b8e186\"],[0.8,\"#7fbc41\"],[0.9,\"#4d9221\"],[1,\"#276419\"]]},\"xaxis\":{\"gridcolor\":\"white\",\"linecolor\":\"white\",\"ticks\":\"\",\"title\":{\"standoff\":15},\"zerolinecolor\":\"white\",\"automargin\":true,\"zerolinewidth\":2},\"yaxis\":{\"gridcolor\":\"white\",\"linecolor\":\"white\",\"ticks\":\"\",\"title\":{\"standoff\":15},\"zerolinecolor\":\"white\",\"automargin\":true,\"zerolinewidth\":2},\"scene\":{\"xaxis\":{\"backgroundcolor\":\"#E5ECF6\",\"gridcolor\":\"white\",\"linecolor\":\"white\",\"showbackground\":true,\"ticks\":\"\",\"zerolinecolor\":\"white\",\"gridwidth\":2},\"yaxis\":{\"backgroundcolor\":\"#E5ECF6\",\"gridcolor\":\"white\",\"linecolor\":\"white\",\"showbackground\":true,\"ticks\":\"\",\"zerolinecolor\":\"white\",\"gridwidth\":2},\"zaxis\":{\"backgroundcolor\":\"#E5ECF6\",\"gridcolor\":\"white\",\"linecolor\":\"white\",\"showbackground\":true,\"ticks\":\"\",\"zerolinecolor\":\"white\",\"gridwidth\":2}},\"shapedefaults\":{\"line\":{\"color\":\"#2a3f5f\"}},\"annotationdefaults\":{\"arrowcolor\":\"#2a3f5f\",\"arrowhead\":0,\"arrowwidth\":1},\"geo\":{\"bgcolor\":\"white\",\"landcolor\":\"#E5ECF6\",\"subunitcolor\":\"white\",\"showland\":true,\"showlakes\":true,\"lakecolor\":\"white\"},\"title\":{\"x\":0.05},\"mapbox\":{\"style\":\"light\"}}},\"xaxis\":{\"anchor\":\"y\",\"domain\":[0.0,0.45]},\"yaxis\":{\"anchor\":\"x\",\"domain\":[0.55,1.0]},\"xaxis2\":{\"anchor\":\"y2\",\"domain\":[0.55,1.0]},\"yaxis2\":{\"anchor\":\"x2\",\"domain\":[0.55,1.0]},\"xaxis3\":{\"anchor\":\"y3\",\"domain\":[0.0,0.45]},\"yaxis3\":{\"anchor\":\"x3\",\"domain\":[0.0,0.45]},\"xaxis4\":{\"anchor\":\"y4\",\"domain\":[0.55,1.0]},\"yaxis4\":{\"anchor\":\"x4\",\"domain\":[0.0,0.45]},\"annotations\":[{\"font\":{\"size\":16},\"showarrow\":false,\"text\":\"hidden w\",\"x\":0.225,\"xanchor\":\"center\",\"xref\":\"paper\",\"y\":1.0,\"yanchor\":\"bottom\",\"yref\":\"paper\"},{\"font\":{\"size\":16},\"showarrow\":false,\"text\":\"out w\",\"x\":0.775,\"xanchor\":\"center\",\"xref\":\"paper\",\"y\":1.0,\"yanchor\":\"bottom\",\"yref\":\"paper\"}],\"height\":800,\"width\":800},                        {\"responsive\": true}                    ).then(function(){\n",
              "                            \n",
              "var gd = document.getElementById('fc69ea29-56b2-4a70-8f4e-572a1d4d4f68');\n",
              "var x = new MutationObserver(function (mutations, observer) {{\n",
              "        var display = window.getComputedStyle(gd).display;\n",
              "        if (!display || display === 'none') {{\n",
              "            console.log([gd, 'removed!']);\n",
              "            Plotly.purge(gd);\n",
              "            observer.disconnect();\n",
              "        }}\n",
              "}});\n",
              "\n",
              "// Listen for the removal of the full notebook cells\n",
              "var notebookContainer = gd.closest('#notebook-container');\n",
              "if (notebookContainer) {{\n",
              "    x.observe(notebookContainer, {childList: true});\n",
              "}}\n",
              "\n",
              "// Listen for the clearing of the current output cell\n",
              "var outputEl = gd.closest('.output');\n",
              "if (outputEl) {{\n",
              "    x.observe(outputEl, {childList: true});\n",
              "}}\n",
              "\n",
              "                        })                };                            </script>        </div>\n",
              "</body>\n",
              "</html>"
            ]
          },
          "metadata": {},
          "output_type": "display_data"
        }
      ],
      "source": [
        "plot_weights(state)"
      ]
    },
    {
      "cell_type": "code",
      "execution_count": 20,
      "metadata": {
        "id": "cWCav2vt-LcY"
      },
      "outputs": [],
      "source": [
        "out_w = np.asarray([d['state'].params['out']['w'] for d in saved_checkpoints])\n",
        "hidden_w = np.asarray([d['state'].params['hidden']['w'] for d in saved_checkpoints])"
      ]
    },
    {
      "cell_type": "code",
      "execution_count": null,
      "metadata": {
        "colab": {
          "base_uri": "https://localhost:8080/",
          "height": 542
        },
        "id": "0r299RLI-3aF",
        "outputId": "93feae93-8df5-421d-da86-1c91393cc414"
      },
      "outputs": [],
      "source": [
        "plot_weight_checkpoints(hidden_w)"
      ]
    },
    {
      "cell_type": "markdown",
      "metadata": {
        "id": "ujkwHIiriXLJ"
      },
      "source": [
        "# Export model"
      ]
    },
    {
      "cell_type": "code",
      "execution_count": 22,
      "metadata": {
        "id": "csBSbBUgAldQ"
      },
      "outputs": [],
      "source": [
        "workdir = 'sparse_parity/'"
      ]
    },
    {
      "cell_type": "code",
      "execution_count": 23,
      "metadata": {
        "id": "r7Nhe9ECiYOH"
      },
      "outputs": [],
      "source": [
        "def save_model(hyper, all_metrics, saved_checkpoints, train_batch):\n",
        "  \"\"\"Save model checkpoints to CNS.\"\"\"\n",
        "  sweep_str = datetime.datetime.now().strftime(\"%Y_%m_%d_%H_%M_%S\")\n",
        "  ckpt_dir = workdir + 'sweeps/' + hyper['sweep_slug'] + '/' + sweep_str + '/'\n",
        "\n",
        "  os.makedirs(os.path.dirname(ckpt_dir))\n",
        "\n",
        "  with open(os.path.join(ckpt_dir, 'hyper.json'), 'w') as f:\n",
        "    f.write(json.dumps(hyper))\n",
        "\n",
        "  with open(os.path.join(ckpt_dir, 'metrics.json'), 'w') as f:\n",
        "    f.write(json.dumps(all_metrics, cls=NpEncoder))\n",
        "\n",
        "  with open(os.path.join(ckpt_dir, 'train_batch.npy'), 'wb') as f:\n",
        "    np.save(f, train_batch[0])\n",
        "\n",
        "  with open(os.path.join(ckpt_dir, f'out_t_w.npy'), 'wb') as f:\n",
        "    np.save(f, np.asarray(out_w.transpose([0, 2, 1])))\n",
        "\n",
        "  key_subkey_array = []\n",
        "  for key, subdict in saved_checkpoints[0]['state'].params.items():\n",
        "    for subkey, array in subdict.items():\n",
        "      key_subkey_array.append((key, subkey))\n",
        "\n",
        "  for key, subkey in key_subkey_array:\n",
        "    slug = (key + '_' +subkey).replace('~', '')\n",
        "    array = [d['state'].params[key][subkey] for d in saved_checkpoints]\n",
        "    with open(os.path.join(ckpt_dir, f'{slug}.npy'), 'wb') as f:\n",
        "      np.save(f, np.asarray(array))\n",
        "\n",
        "  print(ckpt_dir)\n"
      ]
    },
    {
      "cell_type": "code",
      "execution_count": null,
      "metadata": {},
      "outputs": [],
      "source": [
        "plot_training(all_metrics)\n",
        "plot_weights()"
      ]
    }
  ],
  "metadata": {
    "accelerator": "GPU",
    "colab": {
      "collapsed_sections": [
        "Jb5jc18NC-Nb",
        "zmKrRPC2DAKe",
        "rO6gsBcYKFLj"
      ],
      "gpuType": "V100",
      "provenance": []
    },
    "kernelspec": {
      "display_name": "Python 3",
      "name": "python3"
    },
    "language_info": {
      "codemirror_mode": {
        "name": "ipython",
        "version": 3
      },
      "file_extension": ".py",
      "mimetype": "text/x-python",
      "name": "python",
      "nbconvert_exporter": "python",
      "pygments_lexer": "ipython3",
      "version": "3.11.0"
    }
  },
  "nbformat": 4,
  "nbformat_minor": 0
}
